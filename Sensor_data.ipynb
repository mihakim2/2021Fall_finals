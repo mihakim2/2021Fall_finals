{
 "cells": [
  {
   "cell_type": "code",
   "execution_count": null,
   "id": "a7e6896c",
   "metadata": {},
   "outputs": [],
   "source": [
    "from purpleair.network import SensorList\n",
    "import pandas as pd\n",
    "import numpy as np\n",
    "import time\n",
    "import datetime\n",
    "from datetime import date"
   ]
  },
  {
   "cell_type": "code",
   "execution_count": null,
   "id": "2e00a6d6",
   "metadata": {},
   "outputs": [],
   "source": [
    "p = SensorList()  # Initialized 11,220 sensors!\n",
    "# Other sensor filters include 'outside', 'useful', 'family', and 'no_child'\n",
    "df = p.to_dataframe(sensor_filter='all',\n",
    "                    channel='parent')"
   ]
  },
  {
   "cell_type": "markdown",
   "id": "9bb98b19",
   "metadata": {},
   "source": [
    "Warnow-Chacko(South-west): 10894\n",
    "Urbana(South-east):94415\n",
    "Urbana on Holmes:107592"
   ]
  },
  {
   "cell_type": "code",
   "execution_count": null,
   "id": "52a732ef",
   "metadata": {},
   "outputs": [],
   "source": [
    "from purpleair.sensor import Sensor\n",
    "WarnowChacko = Sensor(10894, parse_location=True)\n",
    "print(WarnowChacko)\n",
    "Urbana = Sensor(94415, parse_location=True)\n",
    "print(Urbana)\n",
    "UrbanaOnHolmes = Sensor(107592, parse_location=True)\n",
    "print(UrbanaOnHolmes)"
   ]
  },
  {
   "cell_type": "code",
   "execution_count": null,
   "id": "7a4db46b",
   "metadata": {},
   "outputs": [],
   "source": [
    "df_WarnowChacko = WarnowChacko.parent.get_historical(weeks_to_get= 14, start_date = date(2021, 12, 7),\n",
    "                              thingspeak_field='primary')\n",
    "df_WarnowChacko"
   ]
  },
  {
   "cell_type": "code",
   "execution_count": 5,
   "id": "88720c3a",
   "metadata": {},
   "outputs": [],
   "source": [
    "df_Urbana = Urbana.parent.get_historical(weeks_to_get= 14, start_date = date(2021, 12, 7),\n",
    "                              thingspeak_field='primary')\n",
    "df_Urbana"
   ]
  },
  {
   "cell_type": "code",
   "execution_count": null,
   "id": "666e5466",
   "metadata": {},
   "outputs": [],
   "source": [
    "df_UrbanaOnHolmes = UrbanaOnHolmes.parent.get_historical(weeks_to_get= 14, start_date = date(2021, 12, 7),\n",
    "                              thingspeak_field='primary')\n",
    "df_UrbanaOnHolmes"
   ]
  },
  {
   "cell_type": "code",
   "execution_count": null,
   "id": "7e7f8ab3",
   "metadata": {},
   "outputs": [],
   "source": [
    "df_WarnowChacko.created_at=pd.DatetimeIndex(df_WarnowChacko.created_at).tz_convert('US/Central')\n",
    "df_WarnowChacko['created_at'] = df_WarnowChacko['created_at'].dt.strftime('%Y-%m-%d %H:%M:%S').tolist()\n",
    "\n",
    "df_Urbana.created_at=pd.DatetimeIndex(df_Urbana.created_at).tz_convert('US/Central')\n",
    "df_Urbana['created_at'] = df_Urbana['created_at'].dt.strftime('%Y-%m-%d %H:%M:%S').tolist()\n",
    "\n",
    "df_UrbanaOnHolmes.created_at=pd.DatetimeIndex(df_UrbanaOnHolmes.created_at).tz_convert('US/Central')\n",
    "df_UrbanaOnHolmes['created_at'] = df_UrbanaOnHolmes['created_at'].dt.strftime('%Y-%m-%d %H:%M:%S').tolist()"
   ]
  },
  {
   "cell_type": "code",
   "execution_count": null,
   "id": "75f184f0",
   "metadata": {},
   "outputs": [],
   "source": [
    "def each_fifteen(time_str):\n",
    "    new_time = datetime.datetime.strptime(time_str,'%Y-%m-%d %H:%M:%S')\n",
    "    new_time = new_time.replace(second = 0)\n",
    "    if new_time.minute < 8:\n",
    "        new_time = new_time.replace(minute = 0)\n",
    "    elif new_time.minute < 23:\n",
    "        new_time = new_time.replace(minute = 15)\n",
    "    elif new_time.minute < 38:\n",
    "        new_time = new_time.replace(minute = 30)\n",
    "    elif new_time.minute < 53:\n",
    "        new_time = new_time.replace(minute = 45)\n",
    "    elif new_time.minute < 60:\n",
    "        new_time = new_time + datetime.timedelta(hours = 1)\n",
    "        new_time = new_time.replace(minute = 0)\n",
    "    return str(new_time)"
   ]
  },
  {
   "cell_type": "code",
   "execution_count": null,
   "id": "5d3d41fd",
   "metadata": {},
   "outputs": [],
   "source": [
    "# df_WarnowChacko.apply(each_fifteen, axis = 0)\n",
    "df_WarnowChacko['new_date'] = df_WarnowChacko.apply(lambda time: each_fifteen(time['created_at']),axis=1)\n",
    "df_WarnowChacko"
   ]
  },
  {
   "cell_type": "code",
   "execution_count": null,
   "id": "db788ea5",
   "metadata": {},
   "outputs": [],
   "source": [
    "df_Urbana['new_date'] = df_Urbana.apply(lambda time: each_fifteen(time['created_at']),axis=1)\n",
    "df_Urbana"
   ]
  },
  {
   "cell_type": "code",
   "execution_count": null,
   "id": "28fb3421",
   "metadata": {},
   "outputs": [],
   "source": [
    "df_UrbanaOnHolmes['new_date'] = df_UrbanaOnHolmes.apply(lambda time: each_fifteen(time['created_at']),axis=1)\n",
    "df_UrbanaOnHolmes"
   ]
  },
  {
   "cell_type": "code",
   "execution_count": null,
   "id": "0ae01665",
   "metadata": {},
   "outputs": [],
   "source": [
    "df_WarnowChacko_date = df_WarnowChacko.drop(columns = ['created_at'])\n",
    "df_WarnowChacko_date.sort_values('new_date', ascending=True)"
   ]
  },
  {
   "cell_type": "code",
   "execution_count": null,
   "id": "ac3a2e18",
   "metadata": {},
   "outputs": [],
   "source": [
    "df_Urbana_date = df_Urbana.drop(columns = ['created_at'])\n",
    "df_Urbana_date.sort_values('new_date', ascending=True)"
   ]
  },
  {
   "cell_type": "code",
   "execution_count": null,
   "id": "ecb93236",
   "metadata": {},
   "outputs": [],
   "source": [
    "df_UrbanaOnHolmes_date = df_UrbanaOnHolmes.drop(columns = ['created_at'])\n",
    "df_UrbanaOnHolmes_date.sort_values('new_date', ascending=True)"
   ]
  },
  {
   "cell_type": "code",
   "execution_count": null,
   "id": "11030c5f",
   "metadata": {},
   "outputs": [],
   "source": [
    "df_WarnowChacko_date_group = df_WarnowChacko_date.groupby('new_date').agg('mean').reset_index()\n",
    "df_WarnowChacko_date_group"
   ]
  },
  {
   "cell_type": "code",
   "execution_count": null,
   "id": "e5cb4796",
   "metadata": {},
   "outputs": [],
   "source": [
    "df_Urbana_date_group = df_Urbana_date.groupby('new_date').agg('mean').reset_index()\n",
    "df_Urbana_date_group"
   ]
  },
  {
   "cell_type": "code",
   "execution_count": null,
   "id": "19b4790b",
   "metadata": {},
   "outputs": [],
   "source": [
    "df_UrbanaOnHolmes_date_group = df_UrbanaOnHolmes_date.groupby('new_date').agg('mean').reset_index()\n",
    "df_UrbanaOnHolmes_date_group"
   ]
  },
  {
   "cell_type": "code",
   "execution_count": null,
   "id": "e1e91d63",
   "metadata": {},
   "outputs": [],
   "source": [
    "df_WarnowChacko_date_group.to_feather('export_WarnowChacko_feather')\n",
    "df_Urbana_date_group.to_feather('export_Urbana_feather')\n",
    "df_UrbanaOnHolmes_date_group.to_feather('export_UrbanaOnHolmes_feather')\n",
    "print('done')"
   ]
  },
  {
   "cell_type": "code",
   "execution_count": null,
   "id": "1734b1de",
   "metadata": {},
   "outputs": [],
   "source": []
  }
 ],
 "metadata": {
  "kernelspec": {
   "display_name": "Python 3 (ipykernel)",
   "language": "python",
   "name": "python3"
  },
  "language_info": {
   "codemirror_mode": {
    "name": "ipython",
    "version": 3
   },
   "file_extension": ".py",
   "mimetype": "text/x-python",
   "name": "python",
   "nbconvert_exporter": "python",
   "pygments_lexer": "ipython3",
   "version": "3.9.2"
  }
 },
 "nbformat": 4,
 "nbformat_minor": 5
}