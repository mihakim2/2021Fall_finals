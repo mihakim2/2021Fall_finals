{
 "cells": [
  {
   "cell_type": "code",
   "execution_count": 1,
   "id": "3823be23",
   "metadata": {
    "pycharm": {
     "name": "#%%\n"
    }
   },
   "outputs": [],
   "source": [
    "import json\n",
    "import pandas as pd\n",
    "import pytz\n",
    "import datetime\n",
    "import numpy as np\n",
    "import seaborn as sns\n",
    "import matplotlib.pyplot as plt\n",
    "# import aqi\n",
    "from purpleair.network import SensorList\n",
    "import time\n",
    "from datetime import date\n",
    "from purpleair.sensor import Sensor\n",
    "import functions as func\n",
    "import concurrent.futures\n",
    "import pyecharts.options as opts\n",
    "from pyecharts.charts import Calendar"
   ]
  },
  {
   "cell_type": "markdown",
   "id": "9bbae023",
   "metadata": {},
   "source": [
    "# Data acquisition, cleaning, organization"
   ]
  },
  {
   "cell_type": "markdown",
   "id": "308133a9",
   "metadata": {},
   "source": [
    "## Sensor from college"
   ]
  },
  {
   "cell_type": "code",
   "execution_count": 2,
   "id": "f9dddef5",
   "metadata": {
    "pycharm": {
     "name": "#%%\n"
    }
   },
   "outputs": [],
   "source": [
    "with open('uiuc_sensor_till11302021.txt') as f:\n",
    "    lines = f.readlines()"
   ]
  },
  {
   "cell_type": "code",
   "execution_count": 3,
   "id": "ddc2f820",
   "metadata": {
    "pycharm": {
     "name": "#%%\n"
    }
   },
   "outputs": [],
   "source": [
    "df_gases = pd.DataFrame()\n",
    "df_particles = pd.DataFrame()\n",
    "tot_gases =[]\n",
    "tot_particles =[]"
   ]
  },
  {
   "cell_type": "code",
   "execution_count": 4,
   "id": "6fb393ea",
   "metadata": {
    "pycharm": {
     "name": "#%%\n"
    }
   },
   "outputs": [
    {
     "name": "stdout",
     "output_type": "stream",
     "text": [
      "3450\n"
     ]
    }
   ],
   "source": [
    "lines_count = len(lines)\n",
    "print(lines_count)"
   ]
  },
  {
   "cell_type": "markdown",
   "id": "53409956",
   "metadata": {},
   "source": [
    "The text file has 3 repitive json strings. First is the sensor recording meta data which we wont use. Second json includes gas sensor readings and third one is particulate matter sensor data."
   ]
  },
  {
   "cell_type": "code",
   "execution_count": 5,
   "id": "a19b0252",
   "metadata": {
    "pycharm": {
     "name": "#%%\n"
    }
   },
   "outputs": [],
   "source": [
    "gas=1\n",
    "particle=2\n",
    "for i in range (0,int(lines_count/3)):\n",
    "    gases=lines[gas]\n",
    "    particles=lines[particle]\n",
    "    res_gas = json.loads(gases)\n",
    "    df_gas_1hr=pd.DataFrame(res_gas)\n",
    "    df_gases=pd.concat([df_gases,df_gas_1hr])\n",
    "    res_part = json.loads(particles)\n",
    "    df_part_1hr=pd.DataFrame(res_part)\n",
    "    df_particles=pd.concat([df_particles,df_part_1hr])\n",
    "    gas=gas+3\n",
    "    particle=particle+3"
   ]
  },
  {
   "cell_type": "code",
   "execution_count": 6,
   "id": "0701fa7f",
   "metadata": {
    "pycharm": {
     "name": "#%%\n"
    }
   },
   "outputs": [
    {
     "data": {
      "text/html": [
       "<div>\n",
       "<style scoped>\n",
       "    .dataframe tbody tr th:only-of-type {\n",
       "        vertical-align: middle;\n",
       "    }\n",
       "\n",
       "    .dataframe tbody tr th {\n",
       "        vertical-align: top;\n",
       "    }\n",
       "\n",
       "    .dataframe thead th {\n",
       "        text-align: right;\n",
       "    }\n",
       "</style>\n",
       "<table border=\"1\" class=\"dataframe\">\n",
       "  <thead>\n",
       "    <tr style=\"text-align: right;\">\n",
       "      <th></th>\n",
       "      <th>gas_reading_number</th>\n",
       "      <th>location_number</th>\n",
       "      <th>pod_serial_number</th>\n",
       "      <th>owner_number</th>\n",
       "      <th>reading_datestamp</th>\n",
       "      <th>gas_p1</th>\n",
       "      <th>gas_p2</th>\n",
       "      <th>gas_p3</th>\n",
       "      <th>gasprotocol_version</th>\n",
       "      <th>battery_voltage</th>\n",
       "      <th>...</th>\n",
       "      <th>aux1_units</th>\n",
       "      <th>aux2_sensor_serial_number</th>\n",
       "      <th>aux2_type</th>\n",
       "      <th>aux2_state</th>\n",
       "      <th>aux2_prescaled</th>\n",
       "      <th>aux2_slope</th>\n",
       "      <th>aux2_offset</th>\n",
       "      <th>aux2_units</th>\n",
       "      <th>aux3</th>\n",
       "      <th>aux4</th>\n",
       "    </tr>\n",
       "  </thead>\n",
       "  <tbody>\n",
       "    <tr>\n",
       "      <th>0</th>\n",
       "      <td>314226360</td>\n",
       "      <td>2356</td>\n",
       "      <td>2450738</td>\n",
       "      <td>440</td>\n",
       "      <td>2021-10-13T21:15:00</td>\n",
       "      <td>10</td>\n",
       "      <td>900</td>\n",
       "      <td>3600</td>\n",
       "      <td>V5.3</td>\n",
       "      <td>3.3</td>\n",
       "      <td>...</td>\n",
       "      <td>None</td>\n",
       "      <td>None</td>\n",
       "      <td>Not Fitted</td>\n",
       "      <td>Not Fitted</td>\n",
       "      <td>-1000.0</td>\n",
       "      <td>None</td>\n",
       "      <td>None</td>\n",
       "      <td>None</td>\n",
       "      <td>308.0</td>\n",
       "      <td>1225.0</td>\n",
       "    </tr>\n",
       "    <tr>\n",
       "      <th>1</th>\n",
       "      <td>314226361</td>\n",
       "      <td>2356</td>\n",
       "      <td>2450738</td>\n",
       "      <td>440</td>\n",
       "      <td>2021-10-13T21:30:00</td>\n",
       "      <td>10</td>\n",
       "      <td>900</td>\n",
       "      <td>3600</td>\n",
       "      <td>V5.3</td>\n",
       "      <td>3.3</td>\n",
       "      <td>...</td>\n",
       "      <td>None</td>\n",
       "      <td>None</td>\n",
       "      <td>Not Fitted</td>\n",
       "      <td>Not Fitted</td>\n",
       "      <td>-1000.0</td>\n",
       "      <td>None</td>\n",
       "      <td>None</td>\n",
       "      <td>None</td>\n",
       "      <td>304.0</td>\n",
       "      <td>1226.0</td>\n",
       "    </tr>\n",
       "    <tr>\n",
       "      <th>2</th>\n",
       "      <td>314226362</td>\n",
       "      <td>2356</td>\n",
       "      <td>2450738</td>\n",
       "      <td>440</td>\n",
       "      <td>2021-10-13T21:45:00</td>\n",
       "      <td>10</td>\n",
       "      <td>900</td>\n",
       "      <td>3600</td>\n",
       "      <td>V5.3</td>\n",
       "      <td>3.3</td>\n",
       "      <td>...</td>\n",
       "      <td>None</td>\n",
       "      <td>None</td>\n",
       "      <td>Not Fitted</td>\n",
       "      <td>Not Fitted</td>\n",
       "      <td>-1000.0</td>\n",
       "      <td>None</td>\n",
       "      <td>None</td>\n",
       "      <td>None</td>\n",
       "      <td>312.0</td>\n",
       "      <td>1226.0</td>\n",
       "    </tr>\n",
       "    <tr>\n",
       "      <th>3</th>\n",
       "      <td>314226363</td>\n",
       "      <td>2356</td>\n",
       "      <td>2450738</td>\n",
       "      <td>440</td>\n",
       "      <td>2021-10-13T22:00:00</td>\n",
       "      <td>10</td>\n",
       "      <td>900</td>\n",
       "      <td>3600</td>\n",
       "      <td>V5.3</td>\n",
       "      <td>3.3</td>\n",
       "      <td>...</td>\n",
       "      <td>None</td>\n",
       "      <td>None</td>\n",
       "      <td>Not Fitted</td>\n",
       "      <td>Not Fitted</td>\n",
       "      <td>-1000.0</td>\n",
       "      <td>None</td>\n",
       "      <td>None</td>\n",
       "      <td>None</td>\n",
       "      <td>303.0</td>\n",
       "      <td>1226.0</td>\n",
       "    </tr>\n",
       "    <tr>\n",
       "      <th>0</th>\n",
       "      <td>314233797</td>\n",
       "      <td>2356</td>\n",
       "      <td>2450738</td>\n",
       "      <td>440</td>\n",
       "      <td>2021-10-13T22:15:00</td>\n",
       "      <td>10</td>\n",
       "      <td>900</td>\n",
       "      <td>3600</td>\n",
       "      <td>V5.3</td>\n",
       "      <td>3.3</td>\n",
       "      <td>...</td>\n",
       "      <td>None</td>\n",
       "      <td>None</td>\n",
       "      <td>Not Fitted</td>\n",
       "      <td>Not Fitted</td>\n",
       "      <td>-1000.0</td>\n",
       "      <td>None</td>\n",
       "      <td>None</td>\n",
       "      <td>None</td>\n",
       "      <td>303.0</td>\n",
       "      <td>1225.0</td>\n",
       "    </tr>\n",
       "    <tr>\n",
       "      <th>1</th>\n",
       "      <td>314233798</td>\n",
       "      <td>2356</td>\n",
       "      <td>2450738</td>\n",
       "      <td>440</td>\n",
       "      <td>2021-10-13T22:30:00</td>\n",
       "      <td>10</td>\n",
       "      <td>900</td>\n",
       "      <td>3600</td>\n",
       "      <td>V5.3</td>\n",
       "      <td>3.3</td>\n",
       "      <td>...</td>\n",
       "      <td>None</td>\n",
       "      <td>None</td>\n",
       "      <td>Not Fitted</td>\n",
       "      <td>Not Fitted</td>\n",
       "      <td>-1000.0</td>\n",
       "      <td>None</td>\n",
       "      <td>None</td>\n",
       "      <td>None</td>\n",
       "      <td>302.0</td>\n",
       "      <td>1226.0</td>\n",
       "    </tr>\n",
       "    <tr>\n",
       "      <th>2</th>\n",
       "      <td>314233799</td>\n",
       "      <td>2356</td>\n",
       "      <td>2450738</td>\n",
       "      <td>440</td>\n",
       "      <td>2021-10-13T22:45:00</td>\n",
       "      <td>10</td>\n",
       "      <td>900</td>\n",
       "      <td>3600</td>\n",
       "      <td>V5.3</td>\n",
       "      <td>3.3</td>\n",
       "      <td>...</td>\n",
       "      <td>None</td>\n",
       "      <td>None</td>\n",
       "      <td>Not Fitted</td>\n",
       "      <td>Not Fitted</td>\n",
       "      <td>-1000.0</td>\n",
       "      <td>None</td>\n",
       "      <td>None</td>\n",
       "      <td>None</td>\n",
       "      <td>310.0</td>\n",
       "      <td>1226.0</td>\n",
       "    </tr>\n",
       "    <tr>\n",
       "      <th>3</th>\n",
       "      <td>314233800</td>\n",
       "      <td>2356</td>\n",
       "      <td>2450738</td>\n",
       "      <td>440</td>\n",
       "      <td>2021-10-13T23:00:00</td>\n",
       "      <td>10</td>\n",
       "      <td>900</td>\n",
       "      <td>3600</td>\n",
       "      <td>V5.3</td>\n",
       "      <td>3.3</td>\n",
       "      <td>...</td>\n",
       "      <td>None</td>\n",
       "      <td>None</td>\n",
       "      <td>Not Fitted</td>\n",
       "      <td>Not Fitted</td>\n",
       "      <td>-1000.0</td>\n",
       "      <td>None</td>\n",
       "      <td>None</td>\n",
       "      <td>None</td>\n",
       "      <td>318.0</td>\n",
       "      <td>1226.0</td>\n",
       "    </tr>\n",
       "    <tr>\n",
       "      <th>0</th>\n",
       "      <td>314241126</td>\n",
       "      <td>2356</td>\n",
       "      <td>2450738</td>\n",
       "      <td>440</td>\n",
       "      <td>2021-10-13T23:15:00</td>\n",
       "      <td>10</td>\n",
       "      <td>900</td>\n",
       "      <td>3600</td>\n",
       "      <td>V5.3</td>\n",
       "      <td>3.2</td>\n",
       "      <td>...</td>\n",
       "      <td>None</td>\n",
       "      <td>None</td>\n",
       "      <td>Not Fitted</td>\n",
       "      <td>Not Fitted</td>\n",
       "      <td>-1000.0</td>\n",
       "      <td>None</td>\n",
       "      <td>None</td>\n",
       "      <td>None</td>\n",
       "      <td>325.0</td>\n",
       "      <td>1226.0</td>\n",
       "    </tr>\n",
       "    <tr>\n",
       "      <th>1</th>\n",
       "      <td>314241127</td>\n",
       "      <td>2356</td>\n",
       "      <td>2450738</td>\n",
       "      <td>440</td>\n",
       "      <td>2021-10-13T23:30:00</td>\n",
       "      <td>10</td>\n",
       "      <td>900</td>\n",
       "      <td>3600</td>\n",
       "      <td>V5.3</td>\n",
       "      <td>3.2</td>\n",
       "      <td>...</td>\n",
       "      <td>None</td>\n",
       "      <td>None</td>\n",
       "      <td>Not Fitted</td>\n",
       "      <td>Not Fitted</td>\n",
       "      <td>-1000.0</td>\n",
       "      <td>None</td>\n",
       "      <td>None</td>\n",
       "      <td>None</td>\n",
       "      <td>330.0</td>\n",
       "      <td>1226.0</td>\n",
       "    </tr>\n",
       "  </tbody>\n",
       "</table>\n",
       "<p>10 rows × 80 columns</p>\n",
       "</div>"
      ],
      "text/plain": [
       "   gas_reading_number  location_number  pod_serial_number  owner_number  \\\n",
       "0           314226360             2356            2450738           440   \n",
       "1           314226361             2356            2450738           440   \n",
       "2           314226362             2356            2450738           440   \n",
       "3           314226363             2356            2450738           440   \n",
       "0           314233797             2356            2450738           440   \n",
       "1           314233798             2356            2450738           440   \n",
       "2           314233799             2356            2450738           440   \n",
       "3           314233800             2356            2450738           440   \n",
       "0           314241126             2356            2450738           440   \n",
       "1           314241127             2356            2450738           440   \n",
       "\n",
       "     reading_datestamp  gas_p1  gas_p2  gas_p3 gasprotocol_version  \\\n",
       "0  2021-10-13T21:15:00      10     900    3600                V5.3   \n",
       "1  2021-10-13T21:30:00      10     900    3600                V5.3   \n",
       "2  2021-10-13T21:45:00      10     900    3600                V5.3   \n",
       "3  2021-10-13T22:00:00      10     900    3600                V5.3   \n",
       "0  2021-10-13T22:15:00      10     900    3600                V5.3   \n",
       "1  2021-10-13T22:30:00      10     900    3600                V5.3   \n",
       "2  2021-10-13T22:45:00      10     900    3600                V5.3   \n",
       "3  2021-10-13T23:00:00      10     900    3600                V5.3   \n",
       "0  2021-10-13T23:15:00      10     900    3600                V5.3   \n",
       "1  2021-10-13T23:30:00      10     900    3600                V5.3   \n",
       "\n",
       "   battery_voltage  ...  aux1_units  aux2_sensor_serial_number   aux2_type  \\\n",
       "0              3.3  ...        None                       None  Not Fitted   \n",
       "1              3.3  ...        None                       None  Not Fitted   \n",
       "2              3.3  ...        None                       None  Not Fitted   \n",
       "3              3.3  ...        None                       None  Not Fitted   \n",
       "0              3.3  ...        None                       None  Not Fitted   \n",
       "1              3.3  ...        None                       None  Not Fitted   \n",
       "2              3.3  ...        None                       None  Not Fitted   \n",
       "3              3.3  ...        None                       None  Not Fitted   \n",
       "0              3.2  ...        None                       None  Not Fitted   \n",
       "1              3.2  ...        None                       None  Not Fitted   \n",
       "\n",
       "   aux2_state  aux2_prescaled aux2_slope aux2_offset  aux2_units   aux3  \\\n",
       "0  Not Fitted         -1000.0       None        None        None  308.0   \n",
       "1  Not Fitted         -1000.0       None        None        None  304.0   \n",
       "2  Not Fitted         -1000.0       None        None        None  312.0   \n",
       "3  Not Fitted         -1000.0       None        None        None  303.0   \n",
       "0  Not Fitted         -1000.0       None        None        None  303.0   \n",
       "1  Not Fitted         -1000.0       None        None        None  302.0   \n",
       "2  Not Fitted         -1000.0       None        None        None  310.0   \n",
       "3  Not Fitted         -1000.0       None        None        None  318.0   \n",
       "0  Not Fitted         -1000.0       None        None        None  325.0   \n",
       "1  Not Fitted         -1000.0       None        None        None  330.0   \n",
       "\n",
       "     aux4  \n",
       "0  1225.0  \n",
       "1  1226.0  \n",
       "2  1226.0  \n",
       "3  1226.0  \n",
       "0  1225.0  \n",
       "1  1226.0  \n",
       "2  1226.0  \n",
       "3  1226.0  \n",
       "0  1226.0  \n",
       "1  1226.0  \n",
       "\n",
       "[10 rows x 80 columns]"
      ]
     },
     "execution_count": 6,
     "metadata": {},
     "output_type": "execute_result"
    }
   ],
   "source": [
    "df_gases.head(10)"
   ]
  },
  {
   "cell_type": "code",
   "execution_count": 7,
   "id": "28842f57",
   "metadata": {
    "pycharm": {
     "name": "#%%\n"
    }
   },
   "outputs": [
    {
     "data": {
      "text/plain": [
       "['particle_reading_number',\n",
       " 'location_number',\n",
       " 'pod_serial_number',\n",
       " 'owner_number',\n",
       " 'reading_datestamp',\n",
       " 'particle_p1',\n",
       " 'particle_p2',\n",
       " 'particle_p3',\n",
       " 'particleprotocol_version',\n",
       " 'reading_status',\n",
       " 'battery_voltage',\n",
       " 'battery_low',\n",
       " 'super_cap_voltage',\n",
       " 'temperature_f',\n",
       " 'humidity',\n",
       " 'pressure',\n",
       " 'particle_modem_overlap',\n",
       " 'pm10_prescale',\n",
       " 'pm10_slope',\n",
       " 'pm10_offset',\n",
       " 'pm4_prescale',\n",
       " 'pm4_slope',\n",
       " 'pm4_offset',\n",
       " 'pm2_5_prescale',\n",
       " 'pm2_5_slope',\n",
       " 'pm2_5_offset',\n",
       " 'pm1_prescale',\n",
       " 'pm1_slope',\n",
       " 'pm1_offset',\n",
       " 'pm_tpc_prescale',\n",
       " 'pm_tpc_slope',\n",
       " 'pm_tpc_offset',\n",
       " 'pm_total_prescale',\n",
       " 'pm_total_slope',\n",
       " 'pm_total_offset']"
      ]
     },
     "execution_count": 7,
     "metadata": {},
     "output_type": "execute_result"
    }
   ],
   "source": [
    "list(df_particles.columns)"
   ]
  },
  {
   "cell_type": "code",
   "execution_count": 8,
   "id": "a7ccb2be",
   "metadata": {
    "pycharm": {
     "name": "#%%\n"
    }
   },
   "outputs": [],
   "source": [
    "desired_gas=['reading_datestamp','co_prescaled', 'no_prescaled','no2_prescaled','o3_prescaled','uart_prescaled', 'temperature_f',\n",
    " 'pressure', 'humidity']\n",
    "\n",
    "desired_particle=['reading_datestamp','pm1_prescale','pm2_5_prescale','pm4_prescale','pm10_prescale','pm_tpc_prescale','pm_total_prescale']"
   ]
  },
  {
   "cell_type": "code",
   "execution_count": 9,
   "id": "be5e3457",
   "metadata": {
    "pycharm": {
     "name": "#%%\n"
    }
   },
   "outputs": [
    {
     "data": {
      "text/html": [
       "<div>\n",
       "<style scoped>\n",
       "    .dataframe tbody tr th:only-of-type {\n",
       "        vertical-align: middle;\n",
       "    }\n",
       "\n",
       "    .dataframe tbody tr th {\n",
       "        vertical-align: top;\n",
       "    }\n",
       "\n",
       "    .dataframe thead th {\n",
       "        text-align: right;\n",
       "    }\n",
       "</style>\n",
       "<table border=\"1\" class=\"dataframe\">\n",
       "  <thead>\n",
       "    <tr style=\"text-align: right;\">\n",
       "      <th></th>\n",
       "      <th>reading_datestamp</th>\n",
       "      <th>pm1_prescale</th>\n",
       "      <th>pm2_5_prescale</th>\n",
       "      <th>pm4_prescale</th>\n",
       "      <th>pm10_prescale</th>\n",
       "      <th>pm_tpc_prescale</th>\n",
       "      <th>pm_total_prescale</th>\n",
       "    </tr>\n",
       "  </thead>\n",
       "  <tbody>\n",
       "    <tr>\n",
       "      <th>0</th>\n",
       "      <td>2021-10-13T21:15:00</td>\n",
       "      <td>7.07</td>\n",
       "      <td>8.99</td>\n",
       "      <td>10.61</td>\n",
       "      <td>13.52</td>\n",
       "      <td>3.77</td>\n",
       "      <td>13.52</td>\n",
       "    </tr>\n",
       "    <tr>\n",
       "      <th>1</th>\n",
       "      <td>2021-10-13T21:30:00</td>\n",
       "      <td>6.87</td>\n",
       "      <td>8.72</td>\n",
       "      <td>10.11</td>\n",
       "      <td>12.10</td>\n",
       "      <td>3.69</td>\n",
       "      <td>12.10</td>\n",
       "    </tr>\n",
       "    <tr>\n",
       "      <th>2</th>\n",
       "      <td>2021-10-13T21:45:00</td>\n",
       "      <td>7.01</td>\n",
       "      <td>8.54</td>\n",
       "      <td>9.69</td>\n",
       "      <td>11.42</td>\n",
       "      <td>3.72</td>\n",
       "      <td>11.42</td>\n",
       "    </tr>\n",
       "    <tr>\n",
       "      <th>3</th>\n",
       "      <td>2021-10-13T22:00:00</td>\n",
       "      <td>7.49</td>\n",
       "      <td>9.11</td>\n",
       "      <td>10.53</td>\n",
       "      <td>13.10</td>\n",
       "      <td>3.96</td>\n",
       "      <td>13.10</td>\n",
       "    </tr>\n",
       "    <tr>\n",
       "      <th>0</th>\n",
       "      <td>2021-10-13T22:15:00</td>\n",
       "      <td>7.05</td>\n",
       "      <td>8.66</td>\n",
       "      <td>9.98</td>\n",
       "      <td>12.00</td>\n",
       "      <td>3.76</td>\n",
       "      <td>12.00</td>\n",
       "    </tr>\n",
       "    <tr>\n",
       "      <th>...</th>\n",
       "      <td>...</td>\n",
       "      <td>...</td>\n",
       "      <td>...</td>\n",
       "      <td>...</td>\n",
       "      <td>...</td>\n",
       "      <td>...</td>\n",
       "      <td>...</td>\n",
       "    </tr>\n",
       "    <tr>\n",
       "      <th>3</th>\n",
       "      <td>2021-11-30T20:00:00</td>\n",
       "      <td>3.20</td>\n",
       "      <td>4.52</td>\n",
       "      <td>5.50</td>\n",
       "      <td>9.11</td>\n",
       "      <td>1.83</td>\n",
       "      <td>9.11</td>\n",
       "    </tr>\n",
       "    <tr>\n",
       "      <th>0</th>\n",
       "      <td>2021-11-30T20:15:00</td>\n",
       "      <td>3.21</td>\n",
       "      <td>4.38</td>\n",
       "      <td>5.31</td>\n",
       "      <td>9.70</td>\n",
       "      <td>1.81</td>\n",
       "      <td>9.72</td>\n",
       "    </tr>\n",
       "    <tr>\n",
       "      <th>1</th>\n",
       "      <td>2021-11-30T20:30:00</td>\n",
       "      <td>3.20</td>\n",
       "      <td>4.41</td>\n",
       "      <td>5.38</td>\n",
       "      <td>9.14</td>\n",
       "      <td>1.82</td>\n",
       "      <td>9.14</td>\n",
       "    </tr>\n",
       "    <tr>\n",
       "      <th>2</th>\n",
       "      <td>2021-11-30T20:45:00</td>\n",
       "      <td>3.15</td>\n",
       "      <td>4.51</td>\n",
       "      <td>5.44</td>\n",
       "      <td>8.46</td>\n",
       "      <td>1.79</td>\n",
       "      <td>8.46</td>\n",
       "    </tr>\n",
       "    <tr>\n",
       "      <th>3</th>\n",
       "      <td>2021-11-30T21:00:00</td>\n",
       "      <td>3.18</td>\n",
       "      <td>4.46</td>\n",
       "      <td>5.68</td>\n",
       "      <td>11.58</td>\n",
       "      <td>1.82</td>\n",
       "      <td>11.61</td>\n",
       "    </tr>\n",
       "  </tbody>\n",
       "</table>\n",
       "<p>4612 rows × 7 columns</p>\n",
       "</div>"
      ],
      "text/plain": [
       "      reading_datestamp  pm1_prescale  pm2_5_prescale  pm4_prescale  \\\n",
       "0   2021-10-13T21:15:00          7.07            8.99         10.61   \n",
       "1   2021-10-13T21:30:00          6.87            8.72         10.11   \n",
       "2   2021-10-13T21:45:00          7.01            8.54          9.69   \n",
       "3   2021-10-13T22:00:00          7.49            9.11         10.53   \n",
       "0   2021-10-13T22:15:00          7.05            8.66          9.98   \n",
       "..                  ...           ...             ...           ...   \n",
       "3   2021-11-30T20:00:00          3.20            4.52          5.50   \n",
       "0   2021-11-30T20:15:00          3.21            4.38          5.31   \n",
       "1   2021-11-30T20:30:00          3.20            4.41          5.38   \n",
       "2   2021-11-30T20:45:00          3.15            4.51          5.44   \n",
       "3   2021-11-30T21:00:00          3.18            4.46          5.68   \n",
       "\n",
       "    pm10_prescale  pm_tpc_prescale  pm_total_prescale  \n",
       "0           13.52             3.77              13.52  \n",
       "1           12.10             3.69              12.10  \n",
       "2           11.42             3.72              11.42  \n",
       "3           13.10             3.96              13.10  \n",
       "0           12.00             3.76              12.00  \n",
       "..            ...              ...                ...  \n",
       "3            9.11             1.83               9.11  \n",
       "0            9.70             1.81               9.72  \n",
       "1            9.14             1.82               9.14  \n",
       "2            8.46             1.79               8.46  \n",
       "3           11.58             1.82              11.61  \n",
       "\n",
       "[4612 rows x 7 columns]"
      ]
     },
     "execution_count": 9,
     "metadata": {},
     "output_type": "execute_result"
    }
   ],
   "source": [
    "df_particles_select=df_particles[desired_particle]\n",
    "df_particles_select"
   ]
  },
  {
   "cell_type": "code",
   "execution_count": 10,
   "id": "8a218143",
   "metadata": {
    "pycharm": {
     "name": "#%%\n"
    }
   },
   "outputs": [
    {
     "name": "stderr",
     "output_type": "stream",
     "text": [
      "C:\\Users\\Rapture\\AppData\\Local\\Temp/ipykernel_23872/350824831.py:2: SettingWithCopyWarning: \n",
      "A value is trying to be set on a copy of a slice from a DataFrame.\n",
      "Try using .loc[row_indexer,col_indexer] = value instead\n",
      "\n",
      "See the caveats in the documentation: https://pandas.pydata.org/pandas-docs/stable/user_guide/indexing.html#returning-a-view-versus-a-copy\n",
      "  df_gases_select['uart_prescaled']=df_gases_select.uart_prescaled-350\n"
     ]
    },
    {
     "data": {
      "text/html": [
       "<div>\n",
       "<style scoped>\n",
       "    .dataframe tbody tr th:only-of-type {\n",
       "        vertical-align: middle;\n",
       "    }\n",
       "\n",
       "    .dataframe tbody tr th {\n",
       "        vertical-align: top;\n",
       "    }\n",
       "\n",
       "    .dataframe thead th {\n",
       "        text-align: right;\n",
       "    }\n",
       "</style>\n",
       "<table border=\"1\" class=\"dataframe\">\n",
       "  <thead>\n",
       "    <tr style=\"text-align: right;\">\n",
       "      <th></th>\n",
       "      <th>reading_datestamp</th>\n",
       "      <th>co_prescaled</th>\n",
       "      <th>no_prescaled</th>\n",
       "      <th>no2_prescaled</th>\n",
       "      <th>o3_prescaled</th>\n",
       "      <th>uart_prescaled</th>\n",
       "      <th>temperature_f</th>\n",
       "      <th>pressure</th>\n",
       "      <th>humidity</th>\n",
       "    </tr>\n",
       "  </thead>\n",
       "  <tbody>\n",
       "    <tr>\n",
       "      <th>0</th>\n",
       "      <td>2021-10-13T21:15:00</td>\n",
       "      <td>349.51</td>\n",
       "      <td>7.33</td>\n",
       "      <td>24.83</td>\n",
       "      <td>38.56</td>\n",
       "      <td>440.46</td>\n",
       "      <td>70.0</td>\n",
       "      <td>985.3</td>\n",
       "      <td>83.0</td>\n",
       "    </tr>\n",
       "    <tr>\n",
       "      <th>1</th>\n",
       "      <td>2021-10-13T21:30:00</td>\n",
       "      <td>337.36</td>\n",
       "      <td>8.70</td>\n",
       "      <td>20.90</td>\n",
       "      <td>37.08</td>\n",
       "      <td>438.77</td>\n",
       "      <td>70.3</td>\n",
       "      <td>984.6</td>\n",
       "      <td>82.5</td>\n",
       "    </tr>\n",
       "    <tr>\n",
       "      <th>2</th>\n",
       "      <td>2021-10-13T21:45:00</td>\n",
       "      <td>331.62</td>\n",
       "      <td>9.72</td>\n",
       "      <td>21.68</td>\n",
       "      <td>34.38</td>\n",
       "      <td>438.77</td>\n",
       "      <td>70.5</td>\n",
       "      <td>984.1</td>\n",
       "      <td>82.2</td>\n",
       "    </tr>\n",
       "    <tr>\n",
       "      <th>3</th>\n",
       "      <td>2021-10-13T22:00:00</td>\n",
       "      <td>335.03</td>\n",
       "      <td>7.95</td>\n",
       "      <td>22.65</td>\n",
       "      <td>33.82</td>\n",
       "      <td>441.33</td>\n",
       "      <td>70.5</td>\n",
       "      <td>983.8</td>\n",
       "      <td>82.5</td>\n",
       "    </tr>\n",
       "    <tr>\n",
       "      <th>0</th>\n",
       "      <td>2021-10-13T22:15:00</td>\n",
       "      <td>333.17</td>\n",
       "      <td>12.76</td>\n",
       "      <td>20.34</td>\n",
       "      <td>31.10</td>\n",
       "      <td>440.46</td>\n",
       "      <td>70.5</td>\n",
       "      <td>983.7</td>\n",
       "      <td>82.8</td>\n",
       "    </tr>\n",
       "    <tr>\n",
       "      <th>...</th>\n",
       "      <td>...</td>\n",
       "      <td>...</td>\n",
       "      <td>...</td>\n",
       "      <td>...</td>\n",
       "      <td>...</td>\n",
       "      <td>...</td>\n",
       "      <td>...</td>\n",
       "      <td>...</td>\n",
       "      <td>...</td>\n",
       "    </tr>\n",
       "    <tr>\n",
       "      <th>3</th>\n",
       "      <td>2021-11-30T20:00:00</td>\n",
       "      <td>300.71</td>\n",
       "      <td>3.34</td>\n",
       "      <td>5.50</td>\n",
       "      <td>30.32</td>\n",
       "      <td>426.00</td>\n",
       "      <td>54.3</td>\n",
       "      <td>992.7</td>\n",
       "      <td>58.5</td>\n",
       "    </tr>\n",
       "    <tr>\n",
       "      <th>0</th>\n",
       "      <td>2021-11-30T20:15:00</td>\n",
       "      <td>303.22</td>\n",
       "      <td>2.44</td>\n",
       "      <td>5.20</td>\n",
       "      <td>29.64</td>\n",
       "      <td>425.16</td>\n",
       "      <td>54.1</td>\n",
       "      <td>992.9</td>\n",
       "      <td>58.8</td>\n",
       "    </tr>\n",
       "    <tr>\n",
       "      <th>1</th>\n",
       "      <td>2021-11-30T20:30:00</td>\n",
       "      <td>313.67</td>\n",
       "      <td>3.17</td>\n",
       "      <td>5.35</td>\n",
       "      <td>29.84</td>\n",
       "      <td>426.00</td>\n",
       "      <td>54.0</td>\n",
       "      <td>992.9</td>\n",
       "      <td>58.8</td>\n",
       "    </tr>\n",
       "    <tr>\n",
       "      <th>2</th>\n",
       "      <td>2021-11-30T20:45:00</td>\n",
       "      <td>309.89</td>\n",
       "      <td>5.20</td>\n",
       "      <td>4.53</td>\n",
       "      <td>33.18</td>\n",
       "      <td>426.85</td>\n",
       "      <td>53.6</td>\n",
       "      <td>992.9</td>\n",
       "      <td>58.8</td>\n",
       "    </tr>\n",
       "    <tr>\n",
       "      <th>3</th>\n",
       "      <td>2021-11-30T21:00:00</td>\n",
       "      <td>310.97</td>\n",
       "      <td>2.85</td>\n",
       "      <td>5.16</td>\n",
       "      <td>30.92</td>\n",
       "      <td>429.41</td>\n",
       "      <td>53.4</td>\n",
       "      <td>992.4</td>\n",
       "      <td>59.0</td>\n",
       "    </tr>\n",
       "  </tbody>\n",
       "</table>\n",
       "<p>4612 rows × 9 columns</p>\n",
       "</div>"
      ],
      "text/plain": [
       "      reading_datestamp  co_prescaled  no_prescaled  no2_prescaled  \\\n",
       "0   2021-10-13T21:15:00        349.51          7.33          24.83   \n",
       "1   2021-10-13T21:30:00        337.36          8.70          20.90   \n",
       "2   2021-10-13T21:45:00        331.62          9.72          21.68   \n",
       "3   2021-10-13T22:00:00        335.03          7.95          22.65   \n",
       "0   2021-10-13T22:15:00        333.17         12.76          20.34   \n",
       "..                  ...           ...           ...            ...   \n",
       "3   2021-11-30T20:00:00        300.71          3.34           5.50   \n",
       "0   2021-11-30T20:15:00        303.22          2.44           5.20   \n",
       "1   2021-11-30T20:30:00        313.67          3.17           5.35   \n",
       "2   2021-11-30T20:45:00        309.89          5.20           4.53   \n",
       "3   2021-11-30T21:00:00        310.97          2.85           5.16   \n",
       "\n",
       "    o3_prescaled  uart_prescaled  temperature_f  pressure  humidity  \n",
       "0          38.56          440.46           70.0     985.3      83.0  \n",
       "1          37.08          438.77           70.3     984.6      82.5  \n",
       "2          34.38          438.77           70.5     984.1      82.2  \n",
       "3          33.82          441.33           70.5     983.8      82.5  \n",
       "0          31.10          440.46           70.5     983.7      82.8  \n",
       "..           ...             ...            ...       ...       ...  \n",
       "3          30.32          426.00           54.3     992.7      58.5  \n",
       "0          29.64          425.16           54.1     992.9      58.8  \n",
       "1          29.84          426.00           54.0     992.9      58.8  \n",
       "2          33.18          426.85           53.6     992.9      58.8  \n",
       "3          30.92          429.41           53.4     992.4      59.0  \n",
       "\n",
       "[4612 rows x 9 columns]"
      ]
     },
     "execution_count": 10,
     "metadata": {},
     "output_type": "execute_result"
    }
   ],
   "source": [
    "df_gases_select=df_gases[desired_gas]\n",
    "df_gases_select['uart_prescaled']=df_gases_select.uart_prescaled-350\n",
    "df_gases_select"
   ]
  },
  {
   "cell_type": "code",
   "execution_count": 11,
   "id": "f0ed45fd",
   "metadata": {
    "pycharm": {
     "name": "#%%\n"
    }
   },
   "outputs": [],
   "source": [
    "merged= pd.merge(df_gases_select,df_particles_select, on='reading_datestamp')"
   ]
  },
  {
   "cell_type": "code",
   "execution_count": 12,
   "id": "ce9dfa1c",
   "metadata": {
    "pycharm": {
     "name": "#%%\n"
    }
   },
   "outputs": [
    {
     "data": {
      "text/html": [
       "<div>\n",
       "<style scoped>\n",
       "    .dataframe tbody tr th:only-of-type {\n",
       "        vertical-align: middle;\n",
       "    }\n",
       "\n",
       "    .dataframe tbody tr th {\n",
       "        vertical-align: top;\n",
       "    }\n",
       "\n",
       "    .dataframe thead th {\n",
       "        text-align: right;\n",
       "    }\n",
       "</style>\n",
       "<table border=\"1\" class=\"dataframe\">\n",
       "  <thead>\n",
       "    <tr style=\"text-align: right;\">\n",
       "      <th></th>\n",
       "      <th>reading_datestamp</th>\n",
       "      <th>co_prescaled</th>\n",
       "      <th>no_prescaled</th>\n",
       "      <th>no2_prescaled</th>\n",
       "      <th>o3_prescaled</th>\n",
       "      <th>CO2_prescaled</th>\n",
       "      <th>temperature_f</th>\n",
       "      <th>pressure</th>\n",
       "      <th>humidity</th>\n",
       "      <th>pm1_prescale</th>\n",
       "      <th>pm2_5_prescale</th>\n",
       "      <th>pm4_prescale</th>\n",
       "      <th>pm10_prescale</th>\n",
       "      <th>pm_tpc_prescale</th>\n",
       "      <th>pm_total_prescale</th>\n",
       "      <th>nox_prescaled</th>\n",
       "    </tr>\n",
       "  </thead>\n",
       "  <tbody>\n",
       "    <tr>\n",
       "      <th>0</th>\n",
       "      <td>2021-10-13T21:15:00</td>\n",
       "      <td>349.51</td>\n",
       "      <td>7.33</td>\n",
       "      <td>24.83</td>\n",
       "      <td>38.56</td>\n",
       "      <td>440.46</td>\n",
       "      <td>70.0</td>\n",
       "      <td>985.3</td>\n",
       "      <td>83.0</td>\n",
       "      <td>7.07</td>\n",
       "      <td>8.99</td>\n",
       "      <td>10.61</td>\n",
       "      <td>13.52</td>\n",
       "      <td>3.77</td>\n",
       "      <td>13.52</td>\n",
       "      <td>32.16</td>\n",
       "    </tr>\n",
       "    <tr>\n",
       "      <th>1</th>\n",
       "      <td>2021-10-13T21:30:00</td>\n",
       "      <td>337.36</td>\n",
       "      <td>8.70</td>\n",
       "      <td>20.90</td>\n",
       "      <td>37.08</td>\n",
       "      <td>438.77</td>\n",
       "      <td>70.3</td>\n",
       "      <td>984.6</td>\n",
       "      <td>82.5</td>\n",
       "      <td>6.87</td>\n",
       "      <td>8.72</td>\n",
       "      <td>10.11</td>\n",
       "      <td>12.10</td>\n",
       "      <td>3.69</td>\n",
       "      <td>12.10</td>\n",
       "      <td>29.60</td>\n",
       "    </tr>\n",
       "    <tr>\n",
       "      <th>2</th>\n",
       "      <td>2021-10-13T21:45:00</td>\n",
       "      <td>331.62</td>\n",
       "      <td>9.72</td>\n",
       "      <td>21.68</td>\n",
       "      <td>34.38</td>\n",
       "      <td>438.77</td>\n",
       "      <td>70.5</td>\n",
       "      <td>984.1</td>\n",
       "      <td>82.2</td>\n",
       "      <td>7.01</td>\n",
       "      <td>8.54</td>\n",
       "      <td>9.69</td>\n",
       "      <td>11.42</td>\n",
       "      <td>3.72</td>\n",
       "      <td>11.42</td>\n",
       "      <td>31.40</td>\n",
       "    </tr>\n",
       "    <tr>\n",
       "      <th>3</th>\n",
       "      <td>2021-10-13T22:00:00</td>\n",
       "      <td>335.03</td>\n",
       "      <td>7.95</td>\n",
       "      <td>22.65</td>\n",
       "      <td>33.82</td>\n",
       "      <td>441.33</td>\n",
       "      <td>70.5</td>\n",
       "      <td>983.8</td>\n",
       "      <td>82.5</td>\n",
       "      <td>7.49</td>\n",
       "      <td>9.11</td>\n",
       "      <td>10.53</td>\n",
       "      <td>13.10</td>\n",
       "      <td>3.96</td>\n",
       "      <td>13.10</td>\n",
       "      <td>30.60</td>\n",
       "    </tr>\n",
       "    <tr>\n",
       "      <th>4</th>\n",
       "      <td>2021-10-13T22:15:00</td>\n",
       "      <td>333.17</td>\n",
       "      <td>12.76</td>\n",
       "      <td>20.34</td>\n",
       "      <td>31.10</td>\n",
       "      <td>440.46</td>\n",
       "      <td>70.5</td>\n",
       "      <td>983.7</td>\n",
       "      <td>82.8</td>\n",
       "      <td>7.05</td>\n",
       "      <td>8.66</td>\n",
       "      <td>9.98</td>\n",
       "      <td>12.00</td>\n",
       "      <td>3.76</td>\n",
       "      <td>12.00</td>\n",
       "      <td>33.10</td>\n",
       "    </tr>\n",
       "    <tr>\n",
       "      <th>...</th>\n",
       "      <td>...</td>\n",
       "      <td>...</td>\n",
       "      <td>...</td>\n",
       "      <td>...</td>\n",
       "      <td>...</td>\n",
       "      <td>...</td>\n",
       "      <td>...</td>\n",
       "      <td>...</td>\n",
       "      <td>...</td>\n",
       "      <td>...</td>\n",
       "      <td>...</td>\n",
       "      <td>...</td>\n",
       "      <td>...</td>\n",
       "      <td>...</td>\n",
       "      <td>...</td>\n",
       "      <td>...</td>\n",
       "    </tr>\n",
       "    <tr>\n",
       "      <th>4615</th>\n",
       "      <td>2021-11-30T20:00:00</td>\n",
       "      <td>300.71</td>\n",
       "      <td>3.34</td>\n",
       "      <td>5.50</td>\n",
       "      <td>30.32</td>\n",
       "      <td>426.00</td>\n",
       "      <td>54.3</td>\n",
       "      <td>992.7</td>\n",
       "      <td>58.5</td>\n",
       "      <td>3.20</td>\n",
       "      <td>4.52</td>\n",
       "      <td>5.50</td>\n",
       "      <td>9.11</td>\n",
       "      <td>1.83</td>\n",
       "      <td>9.11</td>\n",
       "      <td>8.84</td>\n",
       "    </tr>\n",
       "    <tr>\n",
       "      <th>4616</th>\n",
       "      <td>2021-11-30T20:15:00</td>\n",
       "      <td>303.22</td>\n",
       "      <td>2.44</td>\n",
       "      <td>5.20</td>\n",
       "      <td>29.64</td>\n",
       "      <td>425.16</td>\n",
       "      <td>54.1</td>\n",
       "      <td>992.9</td>\n",
       "      <td>58.8</td>\n",
       "      <td>3.21</td>\n",
       "      <td>4.38</td>\n",
       "      <td>5.31</td>\n",
       "      <td>9.70</td>\n",
       "      <td>1.81</td>\n",
       "      <td>9.72</td>\n",
       "      <td>7.64</td>\n",
       "    </tr>\n",
       "    <tr>\n",
       "      <th>4617</th>\n",
       "      <td>2021-11-30T20:30:00</td>\n",
       "      <td>313.67</td>\n",
       "      <td>3.17</td>\n",
       "      <td>5.35</td>\n",
       "      <td>29.84</td>\n",
       "      <td>426.00</td>\n",
       "      <td>54.0</td>\n",
       "      <td>992.9</td>\n",
       "      <td>58.8</td>\n",
       "      <td>3.20</td>\n",
       "      <td>4.41</td>\n",
       "      <td>5.38</td>\n",
       "      <td>9.14</td>\n",
       "      <td>1.82</td>\n",
       "      <td>9.14</td>\n",
       "      <td>8.52</td>\n",
       "    </tr>\n",
       "    <tr>\n",
       "      <th>4618</th>\n",
       "      <td>2021-11-30T20:45:00</td>\n",
       "      <td>309.89</td>\n",
       "      <td>5.20</td>\n",
       "      <td>4.53</td>\n",
       "      <td>33.18</td>\n",
       "      <td>426.85</td>\n",
       "      <td>53.6</td>\n",
       "      <td>992.9</td>\n",
       "      <td>58.8</td>\n",
       "      <td>3.15</td>\n",
       "      <td>4.51</td>\n",
       "      <td>5.44</td>\n",
       "      <td>8.46</td>\n",
       "      <td>1.79</td>\n",
       "      <td>8.46</td>\n",
       "      <td>9.73</td>\n",
       "    </tr>\n",
       "    <tr>\n",
       "      <th>4619</th>\n",
       "      <td>2021-11-30T21:00:00</td>\n",
       "      <td>310.97</td>\n",
       "      <td>2.85</td>\n",
       "      <td>5.16</td>\n",
       "      <td>30.92</td>\n",
       "      <td>429.41</td>\n",
       "      <td>53.4</td>\n",
       "      <td>992.4</td>\n",
       "      <td>59.0</td>\n",
       "      <td>3.18</td>\n",
       "      <td>4.46</td>\n",
       "      <td>5.68</td>\n",
       "      <td>11.58</td>\n",
       "      <td>1.82</td>\n",
       "      <td>11.61</td>\n",
       "      <td>8.01</td>\n",
       "    </tr>\n",
       "  </tbody>\n",
       "</table>\n",
       "<p>4620 rows × 16 columns</p>\n",
       "</div>"
      ],
      "text/plain": [
       "        reading_datestamp  co_prescaled  no_prescaled  no2_prescaled  \\\n",
       "0     2021-10-13T21:15:00        349.51          7.33          24.83   \n",
       "1     2021-10-13T21:30:00        337.36          8.70          20.90   \n",
       "2     2021-10-13T21:45:00        331.62          9.72          21.68   \n",
       "3     2021-10-13T22:00:00        335.03          7.95          22.65   \n",
       "4     2021-10-13T22:15:00        333.17         12.76          20.34   \n",
       "...                   ...           ...           ...            ...   \n",
       "4615  2021-11-30T20:00:00        300.71          3.34           5.50   \n",
       "4616  2021-11-30T20:15:00        303.22          2.44           5.20   \n",
       "4617  2021-11-30T20:30:00        313.67          3.17           5.35   \n",
       "4618  2021-11-30T20:45:00        309.89          5.20           4.53   \n",
       "4619  2021-11-30T21:00:00        310.97          2.85           5.16   \n",
       "\n",
       "      o3_prescaled  CO2_prescaled  temperature_f  pressure  humidity  \\\n",
       "0            38.56         440.46           70.0     985.3      83.0   \n",
       "1            37.08         438.77           70.3     984.6      82.5   \n",
       "2            34.38         438.77           70.5     984.1      82.2   \n",
       "3            33.82         441.33           70.5     983.8      82.5   \n",
       "4            31.10         440.46           70.5     983.7      82.8   \n",
       "...            ...            ...            ...       ...       ...   \n",
       "4615         30.32         426.00           54.3     992.7      58.5   \n",
       "4616         29.64         425.16           54.1     992.9      58.8   \n",
       "4617         29.84         426.00           54.0     992.9      58.8   \n",
       "4618         33.18         426.85           53.6     992.9      58.8   \n",
       "4619         30.92         429.41           53.4     992.4      59.0   \n",
       "\n",
       "      pm1_prescale  pm2_5_prescale  pm4_prescale  pm10_prescale  \\\n",
       "0             7.07            8.99         10.61          13.52   \n",
       "1             6.87            8.72         10.11          12.10   \n",
       "2             7.01            8.54          9.69          11.42   \n",
       "3             7.49            9.11         10.53          13.10   \n",
       "4             7.05            8.66          9.98          12.00   \n",
       "...            ...             ...           ...            ...   \n",
       "4615          3.20            4.52          5.50           9.11   \n",
       "4616          3.21            4.38          5.31           9.70   \n",
       "4617          3.20            4.41          5.38           9.14   \n",
       "4618          3.15            4.51          5.44           8.46   \n",
       "4619          3.18            4.46          5.68          11.58   \n",
       "\n",
       "      pm_tpc_prescale  pm_total_prescale  nox_prescaled  \n",
       "0                3.77              13.52          32.16  \n",
       "1                3.69              12.10          29.60  \n",
       "2                3.72              11.42          31.40  \n",
       "3                3.96              13.10          30.60  \n",
       "4                3.76              12.00          33.10  \n",
       "...               ...                ...            ...  \n",
       "4615             1.83               9.11           8.84  \n",
       "4616             1.81               9.72           7.64  \n",
       "4617             1.82               9.14           8.52  \n",
       "4618             1.79               8.46           9.73  \n",
       "4619             1.82              11.61           8.01  \n",
       "\n",
       "[4620 rows x 16 columns]"
      ]
     },
     "execution_count": 12,
     "metadata": {},
     "output_type": "execute_result"
    }
   ],
   "source": [
    "merged['nox_prescaled'] = merged.no_prescaled + merged.no2_prescaled\n",
    "merged = merged.rename({'uart_prescaled': 'CO2_prescaled'}, axis=1)\n",
    "merged"
   ]
  },
  {
   "cell_type": "code",
   "execution_count": 13,
   "id": "6865bb9f",
   "metadata": {
    "pycharm": {
     "name": "#%%\n"
    }
   },
   "outputs": [
    {
     "data": {
      "text/html": [
       "<div>\n",
       "<style scoped>\n",
       "    .dataframe tbody tr th:only-of-type {\n",
       "        vertical-align: middle;\n",
       "    }\n",
       "\n",
       "    .dataframe tbody tr th {\n",
       "        vertical-align: top;\n",
       "    }\n",
       "\n",
       "    .dataframe thead th {\n",
       "        text-align: right;\n",
       "    }\n",
       "</style>\n",
       "<table border=\"1\" class=\"dataframe\">\n",
       "  <thead>\n",
       "    <tr style=\"text-align: right;\">\n",
       "      <th></th>\n",
       "      <th>reading_datestamp</th>\n",
       "      <th>co_prescaled</th>\n",
       "      <th>no_prescaled</th>\n",
       "      <th>no2_prescaled</th>\n",
       "      <th>o3_prescaled</th>\n",
       "      <th>CO2_prescaled</th>\n",
       "      <th>temperature_f</th>\n",
       "      <th>pressure</th>\n",
       "      <th>humidity</th>\n",
       "      <th>pm1_prescale</th>\n",
       "      <th>pm2_5_prescale</th>\n",
       "      <th>pm4_prescale</th>\n",
       "      <th>pm10_prescale</th>\n",
       "      <th>pm_tpc_prescale</th>\n",
       "      <th>pm_total_prescale</th>\n",
       "      <th>nox_prescaled</th>\n",
       "    </tr>\n",
       "  </thead>\n",
       "  <tbody>\n",
       "    <tr>\n",
       "      <th>0</th>\n",
       "      <td>2021-10-13T21:15:00</td>\n",
       "      <td>349.51</td>\n",
       "      <td>7.33</td>\n",
       "      <td>24.83</td>\n",
       "      <td>38.56</td>\n",
       "      <td>440.46</td>\n",
       "      <td>70.0</td>\n",
       "      <td>985.3</td>\n",
       "      <td>83.0</td>\n",
       "      <td>7.07</td>\n",
       "      <td>8.99</td>\n",
       "      <td>10.61</td>\n",
       "      <td>13.52</td>\n",
       "      <td>3.77</td>\n",
       "      <td>13.52</td>\n",
       "      <td>32.16</td>\n",
       "    </tr>\n",
       "    <tr>\n",
       "      <th>1</th>\n",
       "      <td>2021-10-13T21:30:00</td>\n",
       "      <td>337.36</td>\n",
       "      <td>8.70</td>\n",
       "      <td>20.90</td>\n",
       "      <td>37.08</td>\n",
       "      <td>438.77</td>\n",
       "      <td>70.3</td>\n",
       "      <td>984.6</td>\n",
       "      <td>82.5</td>\n",
       "      <td>6.87</td>\n",
       "      <td>8.72</td>\n",
       "      <td>10.11</td>\n",
       "      <td>12.10</td>\n",
       "      <td>3.69</td>\n",
       "      <td>12.10</td>\n",
       "      <td>29.60</td>\n",
       "    </tr>\n",
       "    <tr>\n",
       "      <th>2</th>\n",
       "      <td>2021-10-13T21:45:00</td>\n",
       "      <td>331.62</td>\n",
       "      <td>9.72</td>\n",
       "      <td>21.68</td>\n",
       "      <td>34.38</td>\n",
       "      <td>438.77</td>\n",
       "      <td>70.5</td>\n",
       "      <td>984.1</td>\n",
       "      <td>82.2</td>\n",
       "      <td>7.01</td>\n",
       "      <td>8.54</td>\n",
       "      <td>9.69</td>\n",
       "      <td>11.42</td>\n",
       "      <td>3.72</td>\n",
       "      <td>11.42</td>\n",
       "      <td>31.40</td>\n",
       "    </tr>\n",
       "    <tr>\n",
       "      <th>3</th>\n",
       "      <td>2021-10-13T22:00:00</td>\n",
       "      <td>335.03</td>\n",
       "      <td>7.95</td>\n",
       "      <td>22.65</td>\n",
       "      <td>33.82</td>\n",
       "      <td>441.33</td>\n",
       "      <td>70.5</td>\n",
       "      <td>983.8</td>\n",
       "      <td>82.5</td>\n",
       "      <td>7.49</td>\n",
       "      <td>9.11</td>\n",
       "      <td>10.53</td>\n",
       "      <td>13.10</td>\n",
       "      <td>3.96</td>\n",
       "      <td>13.10</td>\n",
       "      <td>30.60</td>\n",
       "    </tr>\n",
       "    <tr>\n",
       "      <th>4</th>\n",
       "      <td>2021-10-13T22:15:00</td>\n",
       "      <td>333.17</td>\n",
       "      <td>12.76</td>\n",
       "      <td>20.34</td>\n",
       "      <td>31.10</td>\n",
       "      <td>440.46</td>\n",
       "      <td>70.5</td>\n",
       "      <td>983.7</td>\n",
       "      <td>82.8</td>\n",
       "      <td>7.05</td>\n",
       "      <td>8.66</td>\n",
       "      <td>9.98</td>\n",
       "      <td>12.00</td>\n",
       "      <td>3.76</td>\n",
       "      <td>12.00</td>\n",
       "      <td>33.10</td>\n",
       "    </tr>\n",
       "    <tr>\n",
       "      <th>...</th>\n",
       "      <td>...</td>\n",
       "      <td>...</td>\n",
       "      <td>...</td>\n",
       "      <td>...</td>\n",
       "      <td>...</td>\n",
       "      <td>...</td>\n",
       "      <td>...</td>\n",
       "      <td>...</td>\n",
       "      <td>...</td>\n",
       "      <td>...</td>\n",
       "      <td>...</td>\n",
       "      <td>...</td>\n",
       "      <td>...</td>\n",
       "      <td>...</td>\n",
       "      <td>...</td>\n",
       "      <td>...</td>\n",
       "    </tr>\n",
       "    <tr>\n",
       "      <th>4615</th>\n",
       "      <td>2021-11-30T20:00:00</td>\n",
       "      <td>300.71</td>\n",
       "      <td>3.34</td>\n",
       "      <td>5.50</td>\n",
       "      <td>30.32</td>\n",
       "      <td>426.00</td>\n",
       "      <td>54.3</td>\n",
       "      <td>992.7</td>\n",
       "      <td>58.5</td>\n",
       "      <td>3.20</td>\n",
       "      <td>4.52</td>\n",
       "      <td>5.50</td>\n",
       "      <td>9.11</td>\n",
       "      <td>1.83</td>\n",
       "      <td>9.11</td>\n",
       "      <td>8.84</td>\n",
       "    </tr>\n",
       "    <tr>\n",
       "      <th>4616</th>\n",
       "      <td>2021-11-30T20:15:00</td>\n",
       "      <td>303.22</td>\n",
       "      <td>2.44</td>\n",
       "      <td>5.20</td>\n",
       "      <td>29.64</td>\n",
       "      <td>425.16</td>\n",
       "      <td>54.1</td>\n",
       "      <td>992.9</td>\n",
       "      <td>58.8</td>\n",
       "      <td>3.21</td>\n",
       "      <td>4.38</td>\n",
       "      <td>5.31</td>\n",
       "      <td>9.70</td>\n",
       "      <td>1.81</td>\n",
       "      <td>9.72</td>\n",
       "      <td>7.64</td>\n",
       "    </tr>\n",
       "    <tr>\n",
       "      <th>4617</th>\n",
       "      <td>2021-11-30T20:30:00</td>\n",
       "      <td>313.67</td>\n",
       "      <td>3.17</td>\n",
       "      <td>5.35</td>\n",
       "      <td>29.84</td>\n",
       "      <td>426.00</td>\n",
       "      <td>54.0</td>\n",
       "      <td>992.9</td>\n",
       "      <td>58.8</td>\n",
       "      <td>3.20</td>\n",
       "      <td>4.41</td>\n",
       "      <td>5.38</td>\n",
       "      <td>9.14</td>\n",
       "      <td>1.82</td>\n",
       "      <td>9.14</td>\n",
       "      <td>8.52</td>\n",
       "    </tr>\n",
       "    <tr>\n",
       "      <th>4618</th>\n",
       "      <td>2021-11-30T20:45:00</td>\n",
       "      <td>309.89</td>\n",
       "      <td>5.20</td>\n",
       "      <td>4.53</td>\n",
       "      <td>33.18</td>\n",
       "      <td>426.85</td>\n",
       "      <td>53.6</td>\n",
       "      <td>992.9</td>\n",
       "      <td>58.8</td>\n",
       "      <td>3.15</td>\n",
       "      <td>4.51</td>\n",
       "      <td>5.44</td>\n",
       "      <td>8.46</td>\n",
       "      <td>1.79</td>\n",
       "      <td>8.46</td>\n",
       "      <td>9.73</td>\n",
       "    </tr>\n",
       "    <tr>\n",
       "      <th>4619</th>\n",
       "      <td>2021-11-30T21:00:00</td>\n",
       "      <td>310.97</td>\n",
       "      <td>2.85</td>\n",
       "      <td>5.16</td>\n",
       "      <td>30.92</td>\n",
       "      <td>429.41</td>\n",
       "      <td>53.4</td>\n",
       "      <td>992.4</td>\n",
       "      <td>59.0</td>\n",
       "      <td>3.18</td>\n",
       "      <td>4.46</td>\n",
       "      <td>5.68</td>\n",
       "      <td>11.58</td>\n",
       "      <td>1.82</td>\n",
       "      <td>11.61</td>\n",
       "      <td>8.01</td>\n",
       "    </tr>\n",
       "  </tbody>\n",
       "</table>\n",
       "<p>4608 rows × 16 columns</p>\n",
       "</div>"
      ],
      "text/plain": [
       "        reading_datestamp  co_prescaled  no_prescaled  no2_prescaled  \\\n",
       "0     2021-10-13T21:15:00        349.51          7.33          24.83   \n",
       "1     2021-10-13T21:30:00        337.36          8.70          20.90   \n",
       "2     2021-10-13T21:45:00        331.62          9.72          21.68   \n",
       "3     2021-10-13T22:00:00        335.03          7.95          22.65   \n",
       "4     2021-10-13T22:15:00        333.17         12.76          20.34   \n",
       "...                   ...           ...           ...            ...   \n",
       "4615  2021-11-30T20:00:00        300.71          3.34           5.50   \n",
       "4616  2021-11-30T20:15:00        303.22          2.44           5.20   \n",
       "4617  2021-11-30T20:30:00        313.67          3.17           5.35   \n",
       "4618  2021-11-30T20:45:00        309.89          5.20           4.53   \n",
       "4619  2021-11-30T21:00:00        310.97          2.85           5.16   \n",
       "\n",
       "      o3_prescaled  CO2_prescaled  temperature_f  pressure  humidity  \\\n",
       "0            38.56         440.46           70.0     985.3      83.0   \n",
       "1            37.08         438.77           70.3     984.6      82.5   \n",
       "2            34.38         438.77           70.5     984.1      82.2   \n",
       "3            33.82         441.33           70.5     983.8      82.5   \n",
       "4            31.10         440.46           70.5     983.7      82.8   \n",
       "...            ...            ...            ...       ...       ...   \n",
       "4615         30.32         426.00           54.3     992.7      58.5   \n",
       "4616         29.64         425.16           54.1     992.9      58.8   \n",
       "4617         29.84         426.00           54.0     992.9      58.8   \n",
       "4618         33.18         426.85           53.6     992.9      58.8   \n",
       "4619         30.92         429.41           53.4     992.4      59.0   \n",
       "\n",
       "      pm1_prescale  pm2_5_prescale  pm4_prescale  pm10_prescale  \\\n",
       "0             7.07            8.99         10.61          13.52   \n",
       "1             6.87            8.72         10.11          12.10   \n",
       "2             7.01            8.54          9.69          11.42   \n",
       "3             7.49            9.11         10.53          13.10   \n",
       "4             7.05            8.66          9.98          12.00   \n",
       "...            ...             ...           ...            ...   \n",
       "4615          3.20            4.52          5.50           9.11   \n",
       "4616          3.21            4.38          5.31           9.70   \n",
       "4617          3.20            4.41          5.38           9.14   \n",
       "4618          3.15            4.51          5.44           8.46   \n",
       "4619          3.18            4.46          5.68          11.58   \n",
       "\n",
       "      pm_tpc_prescale  pm_total_prescale  nox_prescaled  \n",
       "0                3.77              13.52          32.16  \n",
       "1                3.69              12.10          29.60  \n",
       "2                3.72              11.42          31.40  \n",
       "3                3.96              13.10          30.60  \n",
       "4                3.76              12.00          33.10  \n",
       "...               ...                ...            ...  \n",
       "4615             1.83               9.11           8.84  \n",
       "4616             1.81               9.72           7.64  \n",
       "4617             1.82               9.14           8.52  \n",
       "4618             1.79               8.46           9.73  \n",
       "4619             1.82              11.61           8.01  \n",
       "\n",
       "[4608 rows x 16 columns]"
      ]
     },
     "execution_count": 13,
     "metadata": {},
     "output_type": "execute_result"
    }
   ],
   "source": [
    "df = merged.drop_duplicates('reading_datestamp', keep='first')\n",
    "df"
   ]
  },
  {
   "cell_type": "code",
   "execution_count": 14,
   "id": "aaa2e486",
   "metadata": {
    "pycharm": {
     "name": "#%%\n"
    }
   },
   "outputs": [],
   "source": [
    "old_data= pd.read_csv('old_data_uiuc.csv', sep=',',parse_dates=['reading_datestamp'],infer_datetime_format=True)"
   ]
  },
  {
   "cell_type": "code",
   "execution_count": 15,
   "id": "17a6f44f",
   "metadata": {
    "pycharm": {
     "name": "#%%\n"
    }
   },
   "outputs": [
    {
     "data": {
      "text/html": [
       "<div>\n",
       "<style scoped>\n",
       "    .dataframe tbody tr th:only-of-type {\n",
       "        vertical-align: middle;\n",
       "    }\n",
       "\n",
       "    .dataframe tbody tr th {\n",
       "        vertical-align: top;\n",
       "    }\n",
       "\n",
       "    .dataframe thead th {\n",
       "        text-align: right;\n",
       "    }\n",
       "</style>\n",
       "<table border=\"1\" class=\"dataframe\">\n",
       "  <thead>\n",
       "    <tr style=\"text-align: right;\">\n",
       "      <th></th>\n",
       "      <th>reading_datestamp</th>\n",
       "      <th>co_prescaled</th>\n",
       "      <th>CO2_prescaled</th>\n",
       "      <th>no_prescaled</th>\n",
       "      <th>no2_prescaled</th>\n",
       "      <th>o3_prescaled</th>\n",
       "      <th>pm1_prescale</th>\n",
       "      <th>pm2_5_prescale</th>\n",
       "      <th>pm4_prescale</th>\n",
       "      <th>pm10_prescale</th>\n",
       "      <th>pm_total_prescale</th>\n",
       "      <th>pm_tpc_prescale</th>\n",
       "      <th>nox_prescaled</th>\n",
       "      <th>temperature_f</th>\n",
       "      <th>pressure</th>\n",
       "      <th>humidity</th>\n",
       "    </tr>\n",
       "  </thead>\n",
       "  <tbody>\n",
       "    <tr>\n",
       "      <th>0</th>\n",
       "      <td>2021-09-02 09:45:00</td>\n",
       "      <td>250.38</td>\n",
       "      <td>420.35</td>\n",
       "      <td>15.87</td>\n",
       "      <td>6.86</td>\n",
       "      <td>14.86</td>\n",
       "      <td>5.38</td>\n",
       "      <td>6.94</td>\n",
       "      <td>8.00</td>\n",
       "      <td>10.23</td>\n",
       "      <td>10.23</td>\n",
       "      <td>2.91</td>\n",
       "      <td>13.14</td>\n",
       "      <td>75.9</td>\n",
       "      <td>992.6</td>\n",
       "      <td>63.6</td>\n",
       "    </tr>\n",
       "    <tr>\n",
       "      <th>1</th>\n",
       "      <td>2021-09-02 10:00:00</td>\n",
       "      <td>255.19</td>\n",
       "      <td>418.04</td>\n",
       "      <td>15.78</td>\n",
       "      <td>7.10</td>\n",
       "      <td>16.61</td>\n",
       "      <td>5.26</td>\n",
       "      <td>6.89</td>\n",
       "      <td>7.97</td>\n",
       "      <td>9.76</td>\n",
       "      <td>9.76</td>\n",
       "      <td>2.82</td>\n",
       "      <td>12.58</td>\n",
       "      <td>77.0</td>\n",
       "      <td>992.5</td>\n",
       "      <td>62.5</td>\n",
       "    </tr>\n",
       "    <tr>\n",
       "      <th>2</th>\n",
       "      <td>2021-09-02 10:15:00</td>\n",
       "      <td>254.69</td>\n",
       "      <td>413.88</td>\n",
       "      <td>15.90</td>\n",
       "      <td>7.30</td>\n",
       "      <td>18.42</td>\n",
       "      <td>5.35</td>\n",
       "      <td>6.98</td>\n",
       "      <td>8.12</td>\n",
       "      <td>11.68</td>\n",
       "      <td>11.70</td>\n",
       "      <td>2.88</td>\n",
       "      <td>14.58</td>\n",
       "      <td>77.7</td>\n",
       "      <td>993.0</td>\n",
       "      <td>61.5</td>\n",
       "    </tr>\n",
       "    <tr>\n",
       "      <th>3</th>\n",
       "      <td>2021-09-02 10:30:00</td>\n",
       "      <td>265.17</td>\n",
       "      <td>412.49</td>\n",
       "      <td>15.54</td>\n",
       "      <td>7.48</td>\n",
       "      <td>20.59</td>\n",
       "      <td>5.20</td>\n",
       "      <td>6.77</td>\n",
       "      <td>7.84</td>\n",
       "      <td>9.82</td>\n",
       "      <td>9.82</td>\n",
       "      <td>2.78</td>\n",
       "      <td>12.60</td>\n",
       "      <td>78.4</td>\n",
       "      <td>992.3</td>\n",
       "      <td>61.0</td>\n",
       "    </tr>\n",
       "    <tr>\n",
       "      <th>4</th>\n",
       "      <td>2021-09-02 10:45:00</td>\n",
       "      <td>256.95</td>\n",
       "      <td>408.79</td>\n",
       "      <td>17.10</td>\n",
       "      <td>6.56</td>\n",
       "      <td>23.36</td>\n",
       "      <td>5.40</td>\n",
       "      <td>6.97</td>\n",
       "      <td>8.12</td>\n",
       "      <td>10.32</td>\n",
       "      <td>10.32</td>\n",
       "      <td>2.92</td>\n",
       "      <td>13.24</td>\n",
       "      <td>79.2</td>\n",
       "      <td>992.9</td>\n",
       "      <td>59.8</td>\n",
       "    </tr>\n",
       "    <tr>\n",
       "      <th>...</th>\n",
       "      <td>...</td>\n",
       "      <td>...</td>\n",
       "      <td>...</td>\n",
       "      <td>...</td>\n",
       "      <td>...</td>\n",
       "      <td>...</td>\n",
       "      <td>...</td>\n",
       "      <td>...</td>\n",
       "      <td>...</td>\n",
       "      <td>...</td>\n",
       "      <td>...</td>\n",
       "      <td>...</td>\n",
       "      <td>...</td>\n",
       "      <td>...</td>\n",
       "      <td>...</td>\n",
       "      <td>...</td>\n",
       "    </tr>\n",
       "    <tr>\n",
       "      <th>4615</th>\n",
       "      <td>2021-11-30T20:00:00</td>\n",
       "      <td>300.71</td>\n",
       "      <td>426.00</td>\n",
       "      <td>3.34</td>\n",
       "      <td>5.50</td>\n",
       "      <td>30.32</td>\n",
       "      <td>3.20</td>\n",
       "      <td>4.52</td>\n",
       "      <td>5.50</td>\n",
       "      <td>9.11</td>\n",
       "      <td>9.11</td>\n",
       "      <td>1.83</td>\n",
       "      <td>8.84</td>\n",
       "      <td>54.3</td>\n",
       "      <td>992.7</td>\n",
       "      <td>58.5</td>\n",
       "    </tr>\n",
       "    <tr>\n",
       "      <th>4616</th>\n",
       "      <td>2021-11-30T20:15:00</td>\n",
       "      <td>303.22</td>\n",
       "      <td>425.16</td>\n",
       "      <td>2.44</td>\n",
       "      <td>5.20</td>\n",
       "      <td>29.64</td>\n",
       "      <td>3.21</td>\n",
       "      <td>4.38</td>\n",
       "      <td>5.31</td>\n",
       "      <td>9.70</td>\n",
       "      <td>9.72</td>\n",
       "      <td>1.81</td>\n",
       "      <td>7.64</td>\n",
       "      <td>54.1</td>\n",
       "      <td>992.9</td>\n",
       "      <td>58.8</td>\n",
       "    </tr>\n",
       "    <tr>\n",
       "      <th>4617</th>\n",
       "      <td>2021-11-30T20:30:00</td>\n",
       "      <td>313.67</td>\n",
       "      <td>426.00</td>\n",
       "      <td>3.17</td>\n",
       "      <td>5.35</td>\n",
       "      <td>29.84</td>\n",
       "      <td>3.20</td>\n",
       "      <td>4.41</td>\n",
       "      <td>5.38</td>\n",
       "      <td>9.14</td>\n",
       "      <td>9.14</td>\n",
       "      <td>1.82</td>\n",
       "      <td>8.52</td>\n",
       "      <td>54.0</td>\n",
       "      <td>992.9</td>\n",
       "      <td>58.8</td>\n",
       "    </tr>\n",
       "    <tr>\n",
       "      <th>4618</th>\n",
       "      <td>2021-11-30T20:45:00</td>\n",
       "      <td>309.89</td>\n",
       "      <td>426.85</td>\n",
       "      <td>5.20</td>\n",
       "      <td>4.53</td>\n",
       "      <td>33.18</td>\n",
       "      <td>3.15</td>\n",
       "      <td>4.51</td>\n",
       "      <td>5.44</td>\n",
       "      <td>8.46</td>\n",
       "      <td>8.46</td>\n",
       "      <td>1.79</td>\n",
       "      <td>9.73</td>\n",
       "      <td>53.6</td>\n",
       "      <td>992.9</td>\n",
       "      <td>58.8</td>\n",
       "    </tr>\n",
       "    <tr>\n",
       "      <th>4619</th>\n",
       "      <td>2021-11-30T21:00:00</td>\n",
       "      <td>310.97</td>\n",
       "      <td>429.41</td>\n",
       "      <td>2.85</td>\n",
       "      <td>5.16</td>\n",
       "      <td>30.92</td>\n",
       "      <td>3.18</td>\n",
       "      <td>4.46</td>\n",
       "      <td>5.68</td>\n",
       "      <td>11.58</td>\n",
       "      <td>11.61</td>\n",
       "      <td>1.82</td>\n",
       "      <td>8.01</td>\n",
       "      <td>53.4</td>\n",
       "      <td>992.4</td>\n",
       "      <td>59.0</td>\n",
       "    </tr>\n",
       "  </tbody>\n",
       "</table>\n",
       "<p>8545 rows × 16 columns</p>\n",
       "</div>"
      ],
      "text/plain": [
       "        reading_datestamp  co_prescaled  CO2_prescaled  no_prescaled  \\\n",
       "0     2021-09-02 09:45:00        250.38         420.35         15.87   \n",
       "1     2021-09-02 10:00:00        255.19         418.04         15.78   \n",
       "2     2021-09-02 10:15:00        254.69         413.88         15.90   \n",
       "3     2021-09-02 10:30:00        265.17         412.49         15.54   \n",
       "4     2021-09-02 10:45:00        256.95         408.79         17.10   \n",
       "...                   ...           ...            ...           ...   \n",
       "4615  2021-11-30T20:00:00        300.71         426.00          3.34   \n",
       "4616  2021-11-30T20:15:00        303.22         425.16          2.44   \n",
       "4617  2021-11-30T20:30:00        313.67         426.00          3.17   \n",
       "4618  2021-11-30T20:45:00        309.89         426.85          5.20   \n",
       "4619  2021-11-30T21:00:00        310.97         429.41          2.85   \n",
       "\n",
       "      no2_prescaled  o3_prescaled  pm1_prescale  pm2_5_prescale  pm4_prescale  \\\n",
       "0              6.86         14.86          5.38            6.94          8.00   \n",
       "1              7.10         16.61          5.26            6.89          7.97   \n",
       "2              7.30         18.42          5.35            6.98          8.12   \n",
       "3              7.48         20.59          5.20            6.77          7.84   \n",
       "4              6.56         23.36          5.40            6.97          8.12   \n",
       "...             ...           ...           ...             ...           ...   \n",
       "4615           5.50         30.32          3.20            4.52          5.50   \n",
       "4616           5.20         29.64          3.21            4.38          5.31   \n",
       "4617           5.35         29.84          3.20            4.41          5.38   \n",
       "4618           4.53         33.18          3.15            4.51          5.44   \n",
       "4619           5.16         30.92          3.18            4.46          5.68   \n",
       "\n",
       "      pm10_prescale  pm_total_prescale  pm_tpc_prescale  nox_prescaled  \\\n",
       "0             10.23              10.23             2.91          13.14   \n",
       "1              9.76               9.76             2.82          12.58   \n",
       "2             11.68              11.70             2.88          14.58   \n",
       "3              9.82               9.82             2.78          12.60   \n",
       "4             10.32              10.32             2.92          13.24   \n",
       "...             ...                ...              ...            ...   \n",
       "4615           9.11               9.11             1.83           8.84   \n",
       "4616           9.70               9.72             1.81           7.64   \n",
       "4617           9.14               9.14             1.82           8.52   \n",
       "4618           8.46               8.46             1.79           9.73   \n",
       "4619          11.58              11.61             1.82           8.01   \n",
       "\n",
       "      temperature_f  pressure  humidity  \n",
       "0              75.9     992.6      63.6  \n",
       "1              77.0     992.5      62.5  \n",
       "2              77.7     993.0      61.5  \n",
       "3              78.4     992.3      61.0  \n",
       "4              79.2     992.9      59.8  \n",
       "...             ...       ...       ...  \n",
       "4615           54.3     992.7      58.5  \n",
       "4616           54.1     992.9      58.8  \n",
       "4617           54.0     992.9      58.8  \n",
       "4618           53.6     992.9      58.8  \n",
       "4619           53.4     992.4      59.0  \n",
       "\n",
       "[8545 rows x 16 columns]"
      ]
     },
     "execution_count": 15,
     "metadata": {},
     "output_type": "execute_result"
    }
   ],
   "source": [
    "df = pd.concat([old_data,df])\n",
    "df"
   ]
  },
  {
   "cell_type": "markdown",
   "id": "96147cd7",
   "metadata": {},
   "source": [
    "### Convert from UTC to Central Time (US)"
   ]
  },
  {
   "cell_type": "code",
   "execution_count": 16,
   "id": "86bb7369",
   "metadata": {
    "pycharm": {
     "name": "#%%\n"
    }
   },
   "outputs": [
    {
     "data": {
      "text/html": [
       "<div>\n",
       "<style scoped>\n",
       "    .dataframe tbody tr th:only-of-type {\n",
       "        vertical-align: middle;\n",
       "    }\n",
       "\n",
       "    .dataframe tbody tr th {\n",
       "        vertical-align: top;\n",
       "    }\n",
       "\n",
       "    .dataframe thead th {\n",
       "        text-align: right;\n",
       "    }\n",
       "</style>\n",
       "<table border=\"1\" class=\"dataframe\">\n",
       "  <thead>\n",
       "    <tr style=\"text-align: right;\">\n",
       "      <th></th>\n",
       "      <th>reading_datestamp</th>\n",
       "      <th>co_prescaled</th>\n",
       "      <th>CO2_prescaled</th>\n",
       "      <th>no_prescaled</th>\n",
       "      <th>no2_prescaled</th>\n",
       "      <th>o3_prescaled</th>\n",
       "      <th>pm1_prescale</th>\n",
       "      <th>pm2_5_prescale</th>\n",
       "      <th>pm4_prescale</th>\n",
       "      <th>pm10_prescale</th>\n",
       "      <th>pm_total_prescale</th>\n",
       "      <th>pm_tpc_prescale</th>\n",
       "      <th>nox_prescaled</th>\n",
       "      <th>temperature_f</th>\n",
       "      <th>pressure</th>\n",
       "      <th>humidity</th>\n",
       "    </tr>\n",
       "  </thead>\n",
       "  <tbody>\n",
       "    <tr>\n",
       "      <th>0</th>\n",
       "      <td>2021-09-02 04:45:00</td>\n",
       "      <td>250.38</td>\n",
       "      <td>420.35</td>\n",
       "      <td>15.87</td>\n",
       "      <td>6.86</td>\n",
       "      <td>14.86</td>\n",
       "      <td>5.38</td>\n",
       "      <td>6.94</td>\n",
       "      <td>8.00</td>\n",
       "      <td>10.23</td>\n",
       "      <td>10.23</td>\n",
       "      <td>2.91</td>\n",
       "      <td>13.14</td>\n",
       "      <td>75.9</td>\n",
       "      <td>992.6</td>\n",
       "      <td>63.6</td>\n",
       "    </tr>\n",
       "    <tr>\n",
       "      <th>1</th>\n",
       "      <td>2021-09-02 05:00:00</td>\n",
       "      <td>255.19</td>\n",
       "      <td>418.04</td>\n",
       "      <td>15.78</td>\n",
       "      <td>7.10</td>\n",
       "      <td>16.61</td>\n",
       "      <td>5.26</td>\n",
       "      <td>6.89</td>\n",
       "      <td>7.97</td>\n",
       "      <td>9.76</td>\n",
       "      <td>9.76</td>\n",
       "      <td>2.82</td>\n",
       "      <td>12.58</td>\n",
       "      <td>77.0</td>\n",
       "      <td>992.5</td>\n",
       "      <td>62.5</td>\n",
       "    </tr>\n",
       "    <tr>\n",
       "      <th>2</th>\n",
       "      <td>2021-09-02 05:15:00</td>\n",
       "      <td>254.69</td>\n",
       "      <td>413.88</td>\n",
       "      <td>15.90</td>\n",
       "      <td>7.30</td>\n",
       "      <td>18.42</td>\n",
       "      <td>5.35</td>\n",
       "      <td>6.98</td>\n",
       "      <td>8.12</td>\n",
       "      <td>11.68</td>\n",
       "      <td>11.70</td>\n",
       "      <td>2.88</td>\n",
       "      <td>14.58</td>\n",
       "      <td>77.7</td>\n",
       "      <td>993.0</td>\n",
       "      <td>61.5</td>\n",
       "    </tr>\n",
       "    <tr>\n",
       "      <th>3</th>\n",
       "      <td>2021-09-02 05:30:00</td>\n",
       "      <td>265.17</td>\n",
       "      <td>412.49</td>\n",
       "      <td>15.54</td>\n",
       "      <td>7.48</td>\n",
       "      <td>20.59</td>\n",
       "      <td>5.20</td>\n",
       "      <td>6.77</td>\n",
       "      <td>7.84</td>\n",
       "      <td>9.82</td>\n",
       "      <td>9.82</td>\n",
       "      <td>2.78</td>\n",
       "      <td>12.60</td>\n",
       "      <td>78.4</td>\n",
       "      <td>992.3</td>\n",
       "      <td>61.0</td>\n",
       "    </tr>\n",
       "    <tr>\n",
       "      <th>4</th>\n",
       "      <td>2021-09-02 05:45:00</td>\n",
       "      <td>256.95</td>\n",
       "      <td>408.79</td>\n",
       "      <td>17.10</td>\n",
       "      <td>6.56</td>\n",
       "      <td>23.36</td>\n",
       "      <td>5.40</td>\n",
       "      <td>6.97</td>\n",
       "      <td>8.12</td>\n",
       "      <td>10.32</td>\n",
       "      <td>10.32</td>\n",
       "      <td>2.92</td>\n",
       "      <td>13.24</td>\n",
       "      <td>79.2</td>\n",
       "      <td>992.9</td>\n",
       "      <td>59.8</td>\n",
       "    </tr>\n",
       "    <tr>\n",
       "      <th>...</th>\n",
       "      <td>...</td>\n",
       "      <td>...</td>\n",
       "      <td>...</td>\n",
       "      <td>...</td>\n",
       "      <td>...</td>\n",
       "      <td>...</td>\n",
       "      <td>...</td>\n",
       "      <td>...</td>\n",
       "      <td>...</td>\n",
       "      <td>...</td>\n",
       "      <td>...</td>\n",
       "      <td>...</td>\n",
       "      <td>...</td>\n",
       "      <td>...</td>\n",
       "      <td>...</td>\n",
       "      <td>...</td>\n",
       "    </tr>\n",
       "    <tr>\n",
       "      <th>8540</th>\n",
       "      <td>2021-11-30 14:00:00</td>\n",
       "      <td>300.71</td>\n",
       "      <td>426.00</td>\n",
       "      <td>3.34</td>\n",
       "      <td>5.50</td>\n",
       "      <td>30.32</td>\n",
       "      <td>3.20</td>\n",
       "      <td>4.52</td>\n",
       "      <td>5.50</td>\n",
       "      <td>9.11</td>\n",
       "      <td>9.11</td>\n",
       "      <td>1.83</td>\n",
       "      <td>8.84</td>\n",
       "      <td>54.3</td>\n",
       "      <td>992.7</td>\n",
       "      <td>58.5</td>\n",
       "    </tr>\n",
       "    <tr>\n",
       "      <th>8541</th>\n",
       "      <td>2021-11-30 14:15:00</td>\n",
       "      <td>303.22</td>\n",
       "      <td>425.16</td>\n",
       "      <td>2.44</td>\n",
       "      <td>5.20</td>\n",
       "      <td>29.64</td>\n",
       "      <td>3.21</td>\n",
       "      <td>4.38</td>\n",
       "      <td>5.31</td>\n",
       "      <td>9.70</td>\n",
       "      <td>9.72</td>\n",
       "      <td>1.81</td>\n",
       "      <td>7.64</td>\n",
       "      <td>54.1</td>\n",
       "      <td>992.9</td>\n",
       "      <td>58.8</td>\n",
       "    </tr>\n",
       "    <tr>\n",
       "      <th>8542</th>\n",
       "      <td>2021-11-30 14:30:00</td>\n",
       "      <td>313.67</td>\n",
       "      <td>426.00</td>\n",
       "      <td>3.17</td>\n",
       "      <td>5.35</td>\n",
       "      <td>29.84</td>\n",
       "      <td>3.20</td>\n",
       "      <td>4.41</td>\n",
       "      <td>5.38</td>\n",
       "      <td>9.14</td>\n",
       "      <td>9.14</td>\n",
       "      <td>1.82</td>\n",
       "      <td>8.52</td>\n",
       "      <td>54.0</td>\n",
       "      <td>992.9</td>\n",
       "      <td>58.8</td>\n",
       "    </tr>\n",
       "    <tr>\n",
       "      <th>8543</th>\n",
       "      <td>2021-11-30 14:45:00</td>\n",
       "      <td>309.89</td>\n",
       "      <td>426.85</td>\n",
       "      <td>5.20</td>\n",
       "      <td>4.53</td>\n",
       "      <td>33.18</td>\n",
       "      <td>3.15</td>\n",
       "      <td>4.51</td>\n",
       "      <td>5.44</td>\n",
       "      <td>8.46</td>\n",
       "      <td>8.46</td>\n",
       "      <td>1.79</td>\n",
       "      <td>9.73</td>\n",
       "      <td>53.6</td>\n",
       "      <td>992.9</td>\n",
       "      <td>58.8</td>\n",
       "    </tr>\n",
       "    <tr>\n",
       "      <th>8544</th>\n",
       "      <td>2021-11-30 15:00:00</td>\n",
       "      <td>310.97</td>\n",
       "      <td>429.41</td>\n",
       "      <td>2.85</td>\n",
       "      <td>5.16</td>\n",
       "      <td>30.92</td>\n",
       "      <td>3.18</td>\n",
       "      <td>4.46</td>\n",
       "      <td>5.68</td>\n",
       "      <td>11.58</td>\n",
       "      <td>11.61</td>\n",
       "      <td>1.82</td>\n",
       "      <td>8.01</td>\n",
       "      <td>53.4</td>\n",
       "      <td>992.4</td>\n",
       "      <td>59.0</td>\n",
       "    </tr>\n",
       "  </tbody>\n",
       "</table>\n",
       "<p>8545 rows × 16 columns</p>\n",
       "</div>"
      ],
      "text/plain": [
       "        reading_datestamp  co_prescaled  CO2_prescaled  no_prescaled  \\\n",
       "0     2021-09-02 04:45:00        250.38         420.35         15.87   \n",
       "1     2021-09-02 05:00:00        255.19         418.04         15.78   \n",
       "2     2021-09-02 05:15:00        254.69         413.88         15.90   \n",
       "3     2021-09-02 05:30:00        265.17         412.49         15.54   \n",
       "4     2021-09-02 05:45:00        256.95         408.79         17.10   \n",
       "...                   ...           ...            ...           ...   \n",
       "8540  2021-11-30 14:00:00        300.71         426.00          3.34   \n",
       "8541  2021-11-30 14:15:00        303.22         425.16          2.44   \n",
       "8542  2021-11-30 14:30:00        313.67         426.00          3.17   \n",
       "8543  2021-11-30 14:45:00        309.89         426.85          5.20   \n",
       "8544  2021-11-30 15:00:00        310.97         429.41          2.85   \n",
       "\n",
       "      no2_prescaled  o3_prescaled  pm1_prescale  pm2_5_prescale  pm4_prescale  \\\n",
       "0              6.86         14.86          5.38            6.94          8.00   \n",
       "1              7.10         16.61          5.26            6.89          7.97   \n",
       "2              7.30         18.42          5.35            6.98          8.12   \n",
       "3              7.48         20.59          5.20            6.77          7.84   \n",
       "4              6.56         23.36          5.40            6.97          8.12   \n",
       "...             ...           ...           ...             ...           ...   \n",
       "8540           5.50         30.32          3.20            4.52          5.50   \n",
       "8541           5.20         29.64          3.21            4.38          5.31   \n",
       "8542           5.35         29.84          3.20            4.41          5.38   \n",
       "8543           4.53         33.18          3.15            4.51          5.44   \n",
       "8544           5.16         30.92          3.18            4.46          5.68   \n",
       "\n",
       "      pm10_prescale  pm_total_prescale  pm_tpc_prescale  nox_prescaled  \\\n",
       "0             10.23              10.23             2.91          13.14   \n",
       "1              9.76               9.76             2.82          12.58   \n",
       "2             11.68              11.70             2.88          14.58   \n",
       "3              9.82               9.82             2.78          12.60   \n",
       "4             10.32              10.32             2.92          13.24   \n",
       "...             ...                ...              ...            ...   \n",
       "8540           9.11               9.11             1.83           8.84   \n",
       "8541           9.70               9.72             1.81           7.64   \n",
       "8542           9.14               9.14             1.82           8.52   \n",
       "8543           8.46               8.46             1.79           9.73   \n",
       "8544          11.58              11.61             1.82           8.01   \n",
       "\n",
       "      temperature_f  pressure  humidity  \n",
       "0              75.9     992.6      63.6  \n",
       "1              77.0     992.5      62.5  \n",
       "2              77.7     993.0      61.5  \n",
       "3              78.4     992.3      61.0  \n",
       "4              79.2     992.9      59.8  \n",
       "...             ...       ...       ...  \n",
       "8540           54.3     992.7      58.5  \n",
       "8541           54.1     992.9      58.8  \n",
       "8542           54.0     992.9      58.8  \n",
       "8543           53.6     992.9      58.8  \n",
       "8544           53.4     992.4      59.0  \n",
       "\n",
       "[8545 rows x 16 columns]"
      ]
     },
     "execution_count": 16,
     "metadata": {},
     "output_type": "execute_result"
    }
   ],
   "source": [
    "df.set_index(pd.DatetimeIndex(df['reading_datestamp']), drop=False, inplace=True)\n",
    "df.index = df.index.tz_localize('UTC')\n",
    "df.index = df.index.tz_convert('US/Central')\n",
    "df.index=df.index.strftime(\"%Y-%m-%d %H:%M:%S\")\n",
    "df=df.drop(['reading_datestamp'], axis=1)\n",
    "df=df.reset_index()\n",
    "df"
   ]
  },
  {
   "cell_type": "code",
   "execution_count": 17,
   "id": "9b429443",
   "metadata": {
    "pycharm": {
     "name": "#%%\n"
    }
   },
   "outputs": [],
   "source": [
    "#Export in feather file format - More efficient\n",
    "df2 = df.reset_index()\n",
    "df2.to_feather('export_UIUC_feather')"
   ]
  },
  {
   "cell_type": "markdown",
   "id": "1038b8a6",
   "metadata": {
    "pycharm": {
     "name": "#%%\n"
    }
   },
   "source": [
    "## Sensors from purple air"
   ]
  },
  {
   "cell_type": "code",
   "execution_count": 2,
   "id": "24218275",
   "metadata": {
    "pycharm": {
     "name": "#%%\n"
    }
   },
   "outputs": [],
   "source": [
    "sensor = Sensor(10894, parse_location=True)\n",
    "df_sensor = sensor.parent.get_historical(weeks_to_get= 14, start_date = date(2021, 12, 7),\n",
    "                              thingspeak_field='primary')"
   ]
  },
  {
   "cell_type": "code",
   "execution_count": 3,
   "id": "17bd8bde",
   "metadata": {
    "pycharm": {
     "name": "#%%\n"
    }
   },
   "outputs": [
    {
     "data": {
      "text/html": [
       "<div>\n",
       "<style scoped>\n",
       "    .dataframe tbody tr th:only-of-type {\n",
       "        vertical-align: middle;\n",
       "    }\n",
       "\n",
       "    .dataframe tbody tr th {\n",
       "        vertical-align: top;\n",
       "    }\n",
       "\n",
       "    .dataframe thead th {\n",
       "        text-align: right;\n",
       "    }\n",
       "</style>\n",
       "<table border=\"1\" class=\"dataframe\">\n",
       "  <thead>\n",
       "    <tr style=\"text-align: right;\">\n",
       "      <th></th>\n",
       "      <th>created_at</th>\n",
       "      <th>PM1.0 (CF=1) ug/m3</th>\n",
       "      <th>PM2.5 (CF=1) ug/m3</th>\n",
       "      <th>PM10.0 (CF=1) ug/m3</th>\n",
       "      <th>UptimeMinutes</th>\n",
       "      <th>ADC</th>\n",
       "      <th>Temperature_F</th>\n",
       "      <th>Humidity_%</th>\n",
       "      <th>PM2.5 (CF=ATM) ug/m3</th>\n",
       "    </tr>\n",
       "    <tr>\n",
       "      <th>entry_id</th>\n",
       "      <th></th>\n",
       "      <th></th>\n",
       "      <th></th>\n",
       "      <th></th>\n",
       "      <th></th>\n",
       "      <th></th>\n",
       "      <th></th>\n",
       "      <th></th>\n",
       "      <th></th>\n",
       "    </tr>\n",
       "  </thead>\n",
       "  <tbody>\n",
       "    <tr>\n",
       "      <th>978053</th>\n",
       "      <td>2021-11-29 18:01:19</td>\n",
       "      <td>2.00</td>\n",
       "      <td>3.57</td>\n",
       "      <td>3.73</td>\n",
       "      <td>18121.0</td>\n",
       "      <td>-68.0</td>\n",
       "      <td>47.0</td>\n",
       "      <td>38.0</td>\n",
       "      <td>3.57</td>\n",
       "    </tr>\n",
       "    <tr>\n",
       "      <th>978054</th>\n",
       "      <td>2021-11-29 18:03:19</td>\n",
       "      <td>2.10</td>\n",
       "      <td>3.81</td>\n",
       "      <td>4.66</td>\n",
       "      <td>18123.0</td>\n",
       "      <td>-66.0</td>\n",
       "      <td>47.0</td>\n",
       "      <td>38.0</td>\n",
       "      <td>3.81</td>\n",
       "    </tr>\n",
       "    <tr>\n",
       "      <th>978055</th>\n",
       "      <td>2021-11-29 18:05:19</td>\n",
       "      <td>2.31</td>\n",
       "      <td>3.81</td>\n",
       "      <td>3.81</td>\n",
       "      <td>18125.0</td>\n",
       "      <td>-66.0</td>\n",
       "      <td>47.0</td>\n",
       "      <td>38.0</td>\n",
       "      <td>3.81</td>\n",
       "    </tr>\n",
       "    <tr>\n",
       "      <th>978056</th>\n",
       "      <td>2021-11-29 18:07:19</td>\n",
       "      <td>2.36</td>\n",
       "      <td>4.11</td>\n",
       "      <td>4.18</td>\n",
       "      <td>18127.0</td>\n",
       "      <td>-67.0</td>\n",
       "      <td>47.0</td>\n",
       "      <td>39.0</td>\n",
       "      <td>4.11</td>\n",
       "    </tr>\n",
       "    <tr>\n",
       "      <th>978057</th>\n",
       "      <td>2021-11-29 18:09:19</td>\n",
       "      <td>1.40</td>\n",
       "      <td>2.96</td>\n",
       "      <td>3.70</td>\n",
       "      <td>18129.0</td>\n",
       "      <td>-66.0</td>\n",
       "      <td>47.0</td>\n",
       "      <td>39.0</td>\n",
       "      <td>2.96</td>\n",
       "    </tr>\n",
       "    <tr>\n",
       "      <th>...</th>\n",
       "      <td>...</td>\n",
       "      <td>...</td>\n",
       "      <td>...</td>\n",
       "      <td>...</td>\n",
       "      <td>...</td>\n",
       "      <td>...</td>\n",
       "      <td>...</td>\n",
       "      <td>...</td>\n",
       "      <td>...</td>\n",
       "    </tr>\n",
       "    <tr>\n",
       "      <th>931261</th>\n",
       "      <td>2021-08-30 17:36:56</td>\n",
       "      <td>5.02</td>\n",
       "      <td>7.78</td>\n",
       "      <td>8.00</td>\n",
       "      <td>8651.0</td>\n",
       "      <td>-61.0</td>\n",
       "      <td>87.0</td>\n",
       "      <td>51.0</td>\n",
       "      <td>7.78</td>\n",
       "    </tr>\n",
       "    <tr>\n",
       "      <th>931262</th>\n",
       "      <td>2021-08-30 17:38:56</td>\n",
       "      <td>5.14</td>\n",
       "      <td>6.71</td>\n",
       "      <td>6.71</td>\n",
       "      <td>8653.0</td>\n",
       "      <td>-61.0</td>\n",
       "      <td>87.0</td>\n",
       "      <td>51.0</td>\n",
       "      <td>6.71</td>\n",
       "    </tr>\n",
       "    <tr>\n",
       "      <th>931263</th>\n",
       "      <td>2021-08-30 17:40:56</td>\n",
       "      <td>4.70</td>\n",
       "      <td>6.34</td>\n",
       "      <td>6.34</td>\n",
       "      <td>8655.0</td>\n",
       "      <td>-61.0</td>\n",
       "      <td>87.0</td>\n",
       "      <td>51.0</td>\n",
       "      <td>6.34</td>\n",
       "    </tr>\n",
       "    <tr>\n",
       "      <th>931264</th>\n",
       "      <td>2021-08-30 17:42:56</td>\n",
       "      <td>4.91</td>\n",
       "      <td>7.04</td>\n",
       "      <td>7.40</td>\n",
       "      <td>8657.0</td>\n",
       "      <td>-60.0</td>\n",
       "      <td>87.0</td>\n",
       "      <td>51.0</td>\n",
       "      <td>7.04</td>\n",
       "    </tr>\n",
       "    <tr>\n",
       "      <th>931265</th>\n",
       "      <td>2021-08-30 17:44:57</td>\n",
       "      <td>5.04</td>\n",
       "      <td>6.79</td>\n",
       "      <td>7.16</td>\n",
       "      <td>8659.0</td>\n",
       "      <td>-57.0</td>\n",
       "      <td>87.0</td>\n",
       "      <td>51.0</td>\n",
       "      <td>6.79</td>\n",
       "    </tr>\n",
       "  </tbody>\n",
       "</table>\n",
       "<p>56731 rows × 9 columns</p>\n",
       "</div>"
      ],
      "text/plain": [
       "                   created_at  PM1.0 (CF=1) ug/m3  PM2.5 (CF=1) ug/m3  \\\n",
       "entry_id                                                                \n",
       "978053    2021-11-29 18:01:19                2.00                3.57   \n",
       "978054    2021-11-29 18:03:19                2.10                3.81   \n",
       "978055    2021-11-29 18:05:19                2.31                3.81   \n",
       "978056    2021-11-29 18:07:19                2.36                4.11   \n",
       "978057    2021-11-29 18:09:19                1.40                2.96   \n",
       "...                       ...                 ...                 ...   \n",
       "931261    2021-08-30 17:36:56                5.02                7.78   \n",
       "931262    2021-08-30 17:38:56                5.14                6.71   \n",
       "931263    2021-08-30 17:40:56                4.70                6.34   \n",
       "931264    2021-08-30 17:42:56                4.91                7.04   \n",
       "931265    2021-08-30 17:44:57                5.04                6.79   \n",
       "\n",
       "          PM10.0 (CF=1) ug/m3  UptimeMinutes   ADC  Temperature_F  Humidity_%  \\\n",
       "entry_id                                                                        \n",
       "978053                   3.73        18121.0 -68.0           47.0        38.0   \n",
       "978054                   4.66        18123.0 -66.0           47.0        38.0   \n",
       "978055                   3.81        18125.0 -66.0           47.0        38.0   \n",
       "978056                   4.18        18127.0 -67.0           47.0        39.0   \n",
       "978057                   3.70        18129.0 -66.0           47.0        39.0   \n",
       "...                       ...            ...   ...            ...         ...   \n",
       "931261                   8.00         8651.0 -61.0           87.0        51.0   \n",
       "931262                   6.71         8653.0 -61.0           87.0        51.0   \n",
       "931263                   6.34         8655.0 -61.0           87.0        51.0   \n",
       "931264                   7.40         8657.0 -60.0           87.0        51.0   \n",
       "931265                   7.16         8659.0 -57.0           87.0        51.0   \n",
       "\n",
       "          PM2.5 (CF=ATM) ug/m3  \n",
       "entry_id                        \n",
       "978053                    3.57  \n",
       "978054                    3.81  \n",
       "978055                    3.81  \n",
       "978056                    4.11  \n",
       "978057                    2.96  \n",
       "...                        ...  \n",
       "931261                    7.78  \n",
       "931262                    6.71  \n",
       "931263                    6.34  \n",
       "931264                    7.04  \n",
       "931265                    6.79  \n",
       "\n",
       "[56731 rows x 9 columns]"
      ]
     },
     "execution_count": 3,
     "metadata": {},
     "output_type": "execute_result"
    }
   ],
   "source": [
    "df_sensor.created_at = pd.DatetimeIndex(df_sensor.created_at).tz_convert('US/Central')\n",
    "df_sensor['created_at'] = df_sensor['created_at'].dt.strftime('%Y-%m-%d %H:%M:%S').tolist()\n",
    "df_sensor"
   ]
  },
  {
   "cell_type": "code",
   "execution_count": 4,
   "id": "153cc34f",
   "metadata": {
    "pycharm": {
     "name": "#%%\n"
    }
   },
   "outputs": [
    {
     "name": "stdout",
     "output_type": "stream",
     "text": [
      "Initialized 22,444 sensors!\n"
     ]
    },
    {
     "data": {
      "text/plain": [
       "'Warnow-Chacko'"
      ]
     },
     "execution_count": 4,
     "metadata": {},
     "output_type": "execute_result"
    }
   ],
   "source": [
    "p = SensorList()  # Initialized 11,220 sensors!\n",
    "# Other sensor filters include 'outside', 'useful', 'family', and 'no_child'\n",
    "df = p.to_dataframe(sensor_filter='all',\n",
    "                    channel='parent')\n",
    "# df[df['id'] == 10894]\n",
    "df[df.index == 10894]['name'].values[0]"
   ]
  },
  {
   "cell_type": "markdown",
   "id": "c42e3b5b",
   "metadata": {},
   "source": [
    "Warnow-Chacko(South-west): 10894\n",
    "Urbana(South-east):94415\n",
    "Urbana on Holmes:107592"
   ]
  },
  {
   "cell_type": "code",
   "execution_count": 7,
   "id": "8d770c46",
   "metadata": {
    "pycharm": {
     "name": "#%%\n"
    }
   },
   "outputs": [
    {
     "name": "stdout",
     "output_type": "stream",
     "text": [
      "<class 'purpleair.sensor.Sensor'>\n",
      "Sensor 94415 at 1559, South Vine Street, West Urbana, Urbana, Champaign County, Illinois, 61801, United States\n",
      "Sensor 107592 at 345, East Holmes Street, Urbana, Champaign County, Illinois, 61801, United States\n"
     ]
    }
   ],
   "source": [
    "WarnowChacko = Sensor(10894, parse_location=True)\n",
    "print(type(WarnowChacko))\n",
    "Urbana = Sensor(94415, parse_location=True)\n",
    "print(Urbana)\n",
    "UrbanaOnHolmes = Sensor(107592, parse_location=True)\n",
    "print(UrbanaOnHolmes)"
   ]
  },
  {
   "cell_type": "code",
   "execution_count": 8,
   "id": "f5a5bd87",
   "metadata": {
    "pycharm": {
     "name": "#%%\n"
    }
   },
   "outputs": [
    {
     "name": "stdout",
     "output_type": "stream",
     "text": [
      "Initialized 22,444 sensors!\n"
     ]
    },
    {
     "data": {
      "text/html": [
       "<div>\n",
       "<style scoped>\n",
       "    .dataframe tbody tr th:only-of-type {\n",
       "        vertical-align: middle;\n",
       "    }\n",
       "\n",
       "    .dataframe tbody tr th {\n",
       "        vertical-align: top;\n",
       "    }\n",
       "\n",
       "    .dataframe thead th {\n",
       "        text-align: right;\n",
       "    }\n",
       "</style>\n",
       "<table border=\"1\" class=\"dataframe\">\n",
       "  <thead>\n",
       "    <tr style=\"text-align: right;\">\n",
       "      <th></th>\n",
       "      <th>new_date</th>\n",
       "      <th>PM1.0 (CF=1) ug/m3</th>\n",
       "      <th>PM2.5 (CF=1) ug/m3</th>\n",
       "      <th>PM10.0 (CF=1) ug/m3</th>\n",
       "      <th>UptimeMinutes</th>\n",
       "      <th>ADC</th>\n",
       "      <th>Temperature_F</th>\n",
       "      <th>Humidity_%</th>\n",
       "      <th>PM2.5 (CF=ATM) ug/m3</th>\n",
       "      <th>sensor_name</th>\n",
       "    </tr>\n",
       "  </thead>\n",
       "  <tbody>\n",
       "    <tr>\n",
       "      <th>0</th>\n",
       "      <td>2021-08-23 19:00:00</td>\n",
       "      <td>12.050000</td>\n",
       "      <td>18.035000</td>\n",
       "      <td>18.880000</td>\n",
       "      <td>7672.0</td>\n",
       "      <td>-67.500000</td>\n",
       "      <td>94.000000</td>\n",
       "      <td>45.000000</td>\n",
       "      <td>18.035000</td>\n",
       "      <td>Warnow-Chacko</td>\n",
       "    </tr>\n",
       "    <tr>\n",
       "      <th>1</th>\n",
       "      <td>2021-08-23 19:15:00</td>\n",
       "      <td>12.226250</td>\n",
       "      <td>17.927500</td>\n",
       "      <td>18.696250</td>\n",
       "      <td>7684.0</td>\n",
       "      <td>-67.250000</td>\n",
       "      <td>94.000000</td>\n",
       "      <td>45.000000</td>\n",
       "      <td>17.927500</td>\n",
       "      <td>Warnow-Chacko</td>\n",
       "    </tr>\n",
       "    <tr>\n",
       "      <th>2</th>\n",
       "      <td>2021-08-23 19:30:00</td>\n",
       "      <td>11.734286</td>\n",
       "      <td>17.234286</td>\n",
       "      <td>17.677143</td>\n",
       "      <td>7699.0</td>\n",
       "      <td>-66.714286</td>\n",
       "      <td>92.571429</td>\n",
       "      <td>45.000000</td>\n",
       "      <td>17.234286</td>\n",
       "      <td>Warnow-Chacko</td>\n",
       "    </tr>\n",
       "    <tr>\n",
       "      <th>3</th>\n",
       "      <td>2021-08-23 19:45:00</td>\n",
       "      <td>11.942500</td>\n",
       "      <td>17.366250</td>\n",
       "      <td>18.236250</td>\n",
       "      <td>7714.0</td>\n",
       "      <td>-68.125000</td>\n",
       "      <td>93.000000</td>\n",
       "      <td>45.000000</td>\n",
       "      <td>17.366250</td>\n",
       "      <td>Warnow-Chacko</td>\n",
       "    </tr>\n",
       "    <tr>\n",
       "      <th>4</th>\n",
       "      <td>2021-08-23 20:00:00</td>\n",
       "      <td>13.081429</td>\n",
       "      <td>19.161429</td>\n",
       "      <td>19.652857</td>\n",
       "      <td>7729.0</td>\n",
       "      <td>-68.714286</td>\n",
       "      <td>93.000000</td>\n",
       "      <td>45.142857</td>\n",
       "      <td>19.161429</td>\n",
       "      <td>Warnow-Chacko</td>\n",
       "    </tr>\n",
       "    <tr>\n",
       "      <th>...</th>\n",
       "      <td>...</td>\n",
       "      <td>...</td>\n",
       "      <td>...</td>\n",
       "      <td>...</td>\n",
       "      <td>...</td>\n",
       "      <td>...</td>\n",
       "      <td>...</td>\n",
       "      <td>...</td>\n",
       "      <td>...</td>\n",
       "      <td>...</td>\n",
       "    </tr>\n",
       "    <tr>\n",
       "      <th>7565</th>\n",
       "      <td>2021-12-06 17:00:00</td>\n",
       "      <td>0.000000</td>\n",
       "      <td>0.037143</td>\n",
       "      <td>0.100000</td>\n",
       "      <td>208.0</td>\n",
       "      <td>-62.714286</td>\n",
       "      <td>41.000000</td>\n",
       "      <td>25.285714</td>\n",
       "      <td>0.037143</td>\n",
       "      <td>Warnow-Chacko</td>\n",
       "    </tr>\n",
       "    <tr>\n",
       "      <th>7566</th>\n",
       "      <td>2021-12-06 17:15:00</td>\n",
       "      <td>0.138750</td>\n",
       "      <td>0.446250</td>\n",
       "      <td>0.623750</td>\n",
       "      <td>223.0</td>\n",
       "      <td>-62.375000</td>\n",
       "      <td>41.000000</td>\n",
       "      <td>25.000000</td>\n",
       "      <td>0.446250</td>\n",
       "      <td>Warnow-Chacko</td>\n",
       "    </tr>\n",
       "    <tr>\n",
       "      <th>7567</th>\n",
       "      <td>2021-12-06 17:30:00</td>\n",
       "      <td>0.015714</td>\n",
       "      <td>0.040000</td>\n",
       "      <td>0.152857</td>\n",
       "      <td>238.0</td>\n",
       "      <td>-65.285714</td>\n",
       "      <td>40.857143</td>\n",
       "      <td>25.142857</td>\n",
       "      <td>0.040000</td>\n",
       "      <td>Warnow-Chacko</td>\n",
       "    </tr>\n",
       "    <tr>\n",
       "      <th>7568</th>\n",
       "      <td>2021-12-06 17:45:00</td>\n",
       "      <td>0.000000</td>\n",
       "      <td>0.046250</td>\n",
       "      <td>0.046250</td>\n",
       "      <td>253.0</td>\n",
       "      <td>-65.000000</td>\n",
       "      <td>40.000000</td>\n",
       "      <td>24.750000</td>\n",
       "      <td>0.046250</td>\n",
       "      <td>Warnow-Chacko</td>\n",
       "    </tr>\n",
       "    <tr>\n",
       "      <th>7569</th>\n",
       "      <td>2021-12-06 18:00:00</td>\n",
       "      <td>0.000000</td>\n",
       "      <td>0.000000</td>\n",
       "      <td>0.083333</td>\n",
       "      <td>264.0</td>\n",
       "      <td>-66.000000</td>\n",
       "      <td>40.000000</td>\n",
       "      <td>24.000000</td>\n",
       "      <td>0.000000</td>\n",
       "      <td>Warnow-Chacko</td>\n",
       "    </tr>\n",
       "  </tbody>\n",
       "</table>\n",
       "<p>7570 rows × 10 columns</p>\n",
       "</div>"
      ],
      "text/plain": [
       "                 new_date  PM1.0 (CF=1) ug/m3  PM2.5 (CF=1) ug/m3  \\\n",
       "0     2021-08-23 19:00:00           12.050000           18.035000   \n",
       "1     2021-08-23 19:15:00           12.226250           17.927500   \n",
       "2     2021-08-23 19:30:00           11.734286           17.234286   \n",
       "3     2021-08-23 19:45:00           11.942500           17.366250   \n",
       "4     2021-08-23 20:00:00           13.081429           19.161429   \n",
       "...                   ...                 ...                 ...   \n",
       "7565  2021-12-06 17:00:00            0.000000            0.037143   \n",
       "7566  2021-12-06 17:15:00            0.138750            0.446250   \n",
       "7567  2021-12-06 17:30:00            0.015714            0.040000   \n",
       "7568  2021-12-06 17:45:00            0.000000            0.046250   \n",
       "7569  2021-12-06 18:00:00            0.000000            0.000000   \n",
       "\n",
       "      PM10.0 (CF=1) ug/m3  UptimeMinutes        ADC  Temperature_F  \\\n",
       "0               18.880000         7672.0 -67.500000      94.000000   \n",
       "1               18.696250         7684.0 -67.250000      94.000000   \n",
       "2               17.677143         7699.0 -66.714286      92.571429   \n",
       "3               18.236250         7714.0 -68.125000      93.000000   \n",
       "4               19.652857         7729.0 -68.714286      93.000000   \n",
       "...                   ...            ...        ...            ...   \n",
       "7565             0.100000          208.0 -62.714286      41.000000   \n",
       "7566             0.623750          223.0 -62.375000      41.000000   \n",
       "7567             0.152857          238.0 -65.285714      40.857143   \n",
       "7568             0.046250          253.0 -65.000000      40.000000   \n",
       "7569             0.083333          264.0 -66.000000      40.000000   \n",
       "\n",
       "      Humidity_%  PM2.5 (CF=ATM) ug/m3    sensor_name  \n",
       "0      45.000000             18.035000  Warnow-Chacko  \n",
       "1      45.000000             17.927500  Warnow-Chacko  \n",
       "2      45.000000             17.234286  Warnow-Chacko  \n",
       "3      45.000000             17.366250  Warnow-Chacko  \n",
       "4      45.142857             19.161429  Warnow-Chacko  \n",
       "...          ...                   ...            ...  \n",
       "7565   25.285714              0.037143  Warnow-Chacko  \n",
       "7566   25.000000              0.446250  Warnow-Chacko  \n",
       "7567   25.142857              0.040000  Warnow-Chacko  \n",
       "7568   24.750000              0.046250  Warnow-Chacko  \n",
       "7569   24.000000              0.000000  Warnow-Chacko  \n",
       "\n",
       "[7570 rows x 10 columns]"
      ]
     },
     "execution_count": 8,
     "metadata": {},
     "output_type": "execute_result"
    }
   ],
   "source": [
    "df_WarnowChacko = func.get_sensor_data(10894)"
   ]
  },
  {
   "cell_type": "code",
   "execution_count": 9,
   "id": "1017a662",
   "metadata": {
    "pycharm": {
     "name": "#%%\n"
    }
   },
   "outputs": [
    {
     "name": "stdout",
     "output_type": "stream",
     "text": [
      "Initialized 22,444 sensors!\n"
     ]
    }
   ],
   "source": [
    "df_Urbana = func.get_sensor_data(94415)"
   ]
  },
  {
   "cell_type": "code",
   "execution_count": 10,
   "id": "e9c7fe31",
   "metadata": {
    "pycharm": {
     "name": "#%%\n"
    }
   },
   "outputs": [
    {
     "name": "stdout",
     "output_type": "stream",
     "text": [
      "Initialized 22,444 sensors!\n"
     ]
    }
   ],
   "source": [
    "df_UrbanaOnHolmes = func.get_sensor_data(107592)"
   ]
  },
  {
   "cell_type": "code",
   "execution_count": 11,
   "id": "f76f62b5",
   "metadata": {
    "pycharm": {
     "name": "#%%\n"
    }
   },
   "outputs": [],
   "source": [
    "df_WarnowChacko.to_feather('export_WarnowChacko_feather')\n",
    "df_Urbana.to_feather('export_Urbana_feather')\n",
    "df_UrbanaOnHolmes.to_feather('export_UrbanaOnHolmes_feather')"
   ]
  },
  {
   "cell_type": "markdown",
   "id": "5d33b228",
   "metadata": {
    "pycharm": {
     "name": "#%%\n"
    }
   },
   "source": [
    "## Use api and multi-threads to get the combaination from purple air"
   ]
  },
  {
   "cell_type": "code",
   "execution_count": null,
   "id": "cf0b1b02",
   "metadata": {},
   "outputs": [],
   "source": [
    "sensor_list = [10894, 94415, 107592]\n",
    "columns = ['new_date', 'PM1.0 (CF=1) ug/m3', 'PM2.5 (CF=1) ug/m3', 'PM10.0 (CF=1) ug/m3',\n",
    "          'UptimeMinutes', 'ADC', 'Temperature_F', 'Humidity_%', 'PM2.5 (CF=ATM) ug/m3', 'sensor_name']\n",
    "df_sensor = pd.DataFrame(columns = columns)\n",
    "fs = []\n",
    "executor = concurrent.futures.ThreadPoolExecutor(max_workers=len(sensor_list))\n",
    "for i in sensor_list:\n",
    "    f = executor.submit(sf.get_sensor_data, i)\n",
    "    fs.append(f)\n",
    "\n",
    "df_list = []\n",
    "    \n",
    "for f in fs:\n",
    "    df_sensor = df_sensor.append(f.result())\n",
    "\n",
    "executor.shutdown()\n",
    "df_sensor.reset_index(drop = True)\n",
    "df_UIUC = pd.read_feather('export_UIUC_feather', columns=None, use_threads=True)\n",
    "df_UIUC = df_UIUC.drop(['index'], axis = 1)\n",
    "df_UIUC.rename(columns={'reading_datestamp': 'new_date'}, inplace = True)\n",
    "final_df = df_UIUC.merge(df_sensor, on='new_date')\n",
    "final_df = final_df.drop_duplicates().reset_index().drop(['index'], axis = 1)\n",
    "final_df = final_df[columns]\n",
    "df_UIUC = pd.read_feather('export_UIUC_feather', columns=None, use_threads=True)\n",
    "df_UIUC = df_UIUC.drop(['index'], axis = 1)\n",
    "df_UIUC['sensor_name'] = 'UIUC'\n",
    "df_UIUC.rename(columns={'reading_datestamp': 'new_date'}, inplace = True)\n",
    "df_UIUC.rename(columns={'pm2_5_prescale': 'PM2.5 (CF=1) ug/m3'}, inplace = True)\n",
    "final_df = final_df.append(df_UIUC)[columns].reset_index(drop = True)\n",
    "final_df['new_date']=pd.to_datetime(final_df['new_date'],format='%Y-%m-%d %H:%M:%S')\n",
    "final_df['date'] = pd.to_datetime(final_df['new_date'],format='%Y-%m-%d %H:%M:%S').dt.date\n",
    "final_df['time'] = pd.to_datetime(final_df['new_date'],format='%Y-%m-%d %H:%M:%S').dt.time\n",
    "final_df['dayofweek'] = pd.to_datetime(final_df['new_date'],format='%Y-%m-%d %H:%M:%S').dt.dayofweek"
   ]
  },
  {
   "cell_type": "markdown",
   "id": "720f4f43",
   "metadata": {},
   "source": [
    "# Read the data"
   ]
  },
  {
   "cell_type": "code",
   "execution_count": 48,
   "id": "aff2a981",
   "metadata": {
    "pycharm": {
     "name": "#%%\n"
    }
   },
   "outputs": [],
   "source": [
    "# Read feather file\n",
    "df_UIUC = pd.read_feather('export_UIUC_feather', columns=None, use_threads=True)\n",
    "df_UIUC = df_UIUC.drop(['index'], axis=1)\n",
    "# Now we will import the data acquired and cleaned from PurpleAir.com for 3 locations and merge with our dataset.\n",
    "\n",
    "df_UrbanaOnHolmes = pd.read_feather('export_UrbanaOnHolmes_feather', columns=None, use_threads=True)\n",
    "df_Urbana = pd.read_feather('export_Urbana_feather', columns=None, use_threads=True)\n",
    "df_Champaign = pd.read_feather('export_WarnowChacko_feather', columns=None, use_threads=True)"
   ]
  },
  {
   "cell_type": "markdown",
   "id": "5fdd33d9",
   "metadata": {},
   "source": [
    "# Data Visualization"
   ]
  },
  {
   "cell_type": "markdown",
   "id": "cca7a9a8",
   "metadata": {},
   "source": [
    "## Hypothesis1 - PM2.5 represents the ambient air quality."
   ]
  },
  {
   "cell_type": "code",
   "execution_count": null,
   "id": "022dd51a",
   "metadata": {
    "pycharm": {
     "name": "#%%\n"
    }
   },
   "outputs": [],
   "source": [
    "myaqi = aqi.to_aqi([\n",
    "    (aqi.POLLUTANT_PM25, '35.9')\n",
    "])\n",
    "print(myaqi)"
   ]
  },
  {
   "cell_type": "code",
   "execution_count": 47,
   "id": "f95ec768",
   "metadata": {
    "pycharm": {
     "name": "#%%\n"
    }
   },
   "outputs": [
    {
     "data": {
      "text/html": [
       "<div>\n",
       "<style scoped>\n",
       "    .dataframe tbody tr th:only-of-type {\n",
       "        vertical-align: middle;\n",
       "    }\n",
       "\n",
       "    .dataframe tbody tr th {\n",
       "        vertical-align: top;\n",
       "    }\n",
       "\n",
       "    .dataframe thead th {\n",
       "        text-align: right;\n",
       "    }\n",
       "</style>\n",
       "<table border=\"1\" class=\"dataframe\">\n",
       "  <thead>\n",
       "    <tr style=\"text-align: right;\">\n",
       "      <th></th>\n",
       "      <th>co_prescaled</th>\n",
       "      <th>CO2_prescaled</th>\n",
       "      <th>no_prescaled</th>\n",
       "      <th>no2_prescaled</th>\n",
       "      <th>o3_prescaled</th>\n",
       "      <th>pm1_prescale</th>\n",
       "      <th>pm2_5_prescale</th>\n",
       "      <th>pm4_prescale</th>\n",
       "      <th>pm10_prescale</th>\n",
       "      <th>pm_total_prescale</th>\n",
       "      <th>pm_tpc_prescale</th>\n",
       "      <th>nox_prescaled</th>\n",
       "      <th>temperature_f</th>\n",
       "      <th>pressure</th>\n",
       "      <th>humidity</th>\n",
       "    </tr>\n",
       "    <tr>\n",
       "      <th>reading_datestamp</th>\n",
       "      <th></th>\n",
       "      <th></th>\n",
       "      <th></th>\n",
       "      <th></th>\n",
       "      <th></th>\n",
       "      <th></th>\n",
       "      <th></th>\n",
       "      <th></th>\n",
       "      <th></th>\n",
       "      <th></th>\n",
       "      <th></th>\n",
       "      <th></th>\n",
       "      <th></th>\n",
       "      <th></th>\n",
       "      <th></th>\n",
       "    </tr>\n",
       "  </thead>\n",
       "  <tbody>\n",
       "    <tr>\n",
       "      <th>2021-09-02 04:45:00</th>\n",
       "      <td>250.38</td>\n",
       "      <td>420.35</td>\n",
       "      <td>15.87</td>\n",
       "      <td>6.86</td>\n",
       "      <td>14.86</td>\n",
       "      <td>5.38</td>\n",
       "      <td>6.94</td>\n",
       "      <td>8.00</td>\n",
       "      <td>10.23</td>\n",
       "      <td>10.23</td>\n",
       "      <td>2.91</td>\n",
       "      <td>13.14</td>\n",
       "      <td>75.9</td>\n",
       "      <td>992.6</td>\n",
       "      <td>63.6</td>\n",
       "    </tr>\n",
       "    <tr>\n",
       "      <th>2021-09-02 05:00:00</th>\n",
       "      <td>255.19</td>\n",
       "      <td>418.04</td>\n",
       "      <td>15.78</td>\n",
       "      <td>7.10</td>\n",
       "      <td>16.61</td>\n",
       "      <td>5.26</td>\n",
       "      <td>6.89</td>\n",
       "      <td>7.97</td>\n",
       "      <td>9.76</td>\n",
       "      <td>9.76</td>\n",
       "      <td>2.82</td>\n",
       "      <td>12.58</td>\n",
       "      <td>77.0</td>\n",
       "      <td>992.5</td>\n",
       "      <td>62.5</td>\n",
       "    </tr>\n",
       "    <tr>\n",
       "      <th>2021-09-02 05:15:00</th>\n",
       "      <td>254.69</td>\n",
       "      <td>413.88</td>\n",
       "      <td>15.90</td>\n",
       "      <td>7.30</td>\n",
       "      <td>18.42</td>\n",
       "      <td>5.35</td>\n",
       "      <td>6.98</td>\n",
       "      <td>8.12</td>\n",
       "      <td>11.68</td>\n",
       "      <td>11.70</td>\n",
       "      <td>2.88</td>\n",
       "      <td>14.58</td>\n",
       "      <td>77.7</td>\n",
       "      <td>993.0</td>\n",
       "      <td>61.5</td>\n",
       "    </tr>\n",
       "    <tr>\n",
       "      <th>2021-09-02 05:30:00</th>\n",
       "      <td>265.17</td>\n",
       "      <td>412.49</td>\n",
       "      <td>15.54</td>\n",
       "      <td>7.48</td>\n",
       "      <td>20.59</td>\n",
       "      <td>5.20</td>\n",
       "      <td>6.77</td>\n",
       "      <td>7.84</td>\n",
       "      <td>9.82</td>\n",
       "      <td>9.82</td>\n",
       "      <td>2.78</td>\n",
       "      <td>12.60</td>\n",
       "      <td>78.4</td>\n",
       "      <td>992.3</td>\n",
       "      <td>61.0</td>\n",
       "    </tr>\n",
       "    <tr>\n",
       "      <th>2021-09-02 05:45:00</th>\n",
       "      <td>256.95</td>\n",
       "      <td>408.79</td>\n",
       "      <td>17.10</td>\n",
       "      <td>6.56</td>\n",
       "      <td>23.36</td>\n",
       "      <td>5.40</td>\n",
       "      <td>6.97</td>\n",
       "      <td>8.12</td>\n",
       "      <td>10.32</td>\n",
       "      <td>10.32</td>\n",
       "      <td>2.92</td>\n",
       "      <td>13.24</td>\n",
       "      <td>79.2</td>\n",
       "      <td>992.9</td>\n",
       "      <td>59.8</td>\n",
       "    </tr>\n",
       "  </tbody>\n",
       "</table>\n",
       "</div>"
      ],
      "text/plain": [
       "                     co_prescaled  CO2_prescaled  no_prescaled  no2_prescaled  \\\n",
       "reading_datestamp                                                               \n",
       "2021-09-02 04:45:00        250.38         420.35         15.87           6.86   \n",
       "2021-09-02 05:00:00        255.19         418.04         15.78           7.10   \n",
       "2021-09-02 05:15:00        254.69         413.88         15.90           7.30   \n",
       "2021-09-02 05:30:00        265.17         412.49         15.54           7.48   \n",
       "2021-09-02 05:45:00        256.95         408.79         17.10           6.56   \n",
       "\n",
       "                     o3_prescaled  pm1_prescale  pm2_5_prescale  pm4_prescale  \\\n",
       "reading_datestamp                                                               \n",
       "2021-09-02 04:45:00         14.86          5.38            6.94          8.00   \n",
       "2021-09-02 05:00:00         16.61          5.26            6.89          7.97   \n",
       "2021-09-02 05:15:00         18.42          5.35            6.98          8.12   \n",
       "2021-09-02 05:30:00         20.59          5.20            6.77          7.84   \n",
       "2021-09-02 05:45:00         23.36          5.40            6.97          8.12   \n",
       "\n",
       "                     pm10_prescale  pm_total_prescale  pm_tpc_prescale  \\\n",
       "reading_datestamp                                                        \n",
       "2021-09-02 04:45:00          10.23              10.23             2.91   \n",
       "2021-09-02 05:00:00           9.76               9.76             2.82   \n",
       "2021-09-02 05:15:00          11.68              11.70             2.88   \n",
       "2021-09-02 05:30:00           9.82               9.82             2.78   \n",
       "2021-09-02 05:45:00          10.32              10.32             2.92   \n",
       "\n",
       "                     nox_prescaled  temperature_f  pressure  humidity  \n",
       "reading_datestamp                                                      \n",
       "2021-09-02 04:45:00          13.14           75.9     992.6      63.6  \n",
       "2021-09-02 05:00:00          12.58           77.0     992.5      62.5  \n",
       "2021-09-02 05:15:00          14.58           77.7     993.0      61.5  \n",
       "2021-09-02 05:30:00          12.60           78.4     992.3      61.0  \n",
       "2021-09-02 05:45:00          13.24           79.2     992.9      59.8  "
      ]
     },
     "execution_count": 47,
     "metadata": {},
     "output_type": "execute_result"
    }
   ],
   "source": [
    "df = df_UIUC.copy()\n",
    "df['reading_datestamp'] = pd.to_datetime(df['reading_datestamp'])\n",
    "# set a column as the index\n",
    "df.set_index('reading_datestamp', inplace=True)\n",
    "df.head()"
   ]
  },
  {
   "cell_type": "code",
   "execution_count": null,
   "id": "4918791d",
   "metadata": {
    "pycharm": {
     "name": "#%%\n"
    }
   },
   "outputs": [],
   "source": [
    "df_scale=df.copy()\n",
    "df_scale['co_prescaled']=df_scale['co_prescaled']/10\n",
    "df_scale['CO2_prescaled']=df_scale['CO2_prescaled']/10\n",
    "sns.set_context(\"notebook\", font_scale=1)\n",
    "sns.set(rc={'figure.figsize':(15,8.27)})\n",
    "left = datetime(2021,9,2)\n",
    "right = datetime(2021,11,28)\n",
    "ax = sns.lineplot(data=df_scale[['nox_prescaled', 'co_prescaled', 'o3_prescaled','CO2_prescaled']], palette = ['red', 'orange','black','purple'], alpha=0.7)\n",
    "ax.set_xlabel('Gas Concentrations over experiment duration', fontsize=10)\n",
    "ax.set_xlim(left, right)"
   ]
  },
  {
   "cell_type": "code",
   "execution_count": null,
   "id": "73c0352b",
   "metadata": {
    "pycharm": {
     "name": "#%%\n"
    }
   },
   "outputs": [],
   "source": [
    "# Now we will import the data acquired and cleaned from PurpleAir.com for 3 locations and merge with our dataset.\n",
    "df_urbanaOH = df_UrbanaOnHolmes.copy()\n",
    "df_urbanaOH['new_date'] = pd.to_datetime(df_urbanaOH['new_date'])\n",
    "df_urbanaOH=df_urbanaOH[['new_date','PM2.5 (CF=1) ug/m3']]\n",
    "df_urbanaOH = df_urbanaOH.rename({'new_date': 'reading_datestamp','PM2.5 (CF=1) ug/m3': 'pm2.5_UrbanaOH' }, axis=1)\n",
    "df_urbanaOH.set_index('reading_datestamp', inplace=True)\n",
    "#df_urbanaOH\n",
    "df_urbanaOH = df_urbanaOH[df_urbanaOH.index.isin(df.index)]\n",
    "\n",
    "df_urbana = df_Urbana.copy()\n",
    "df_urbana['new_date'] = pd.to_datetime(df_urbana['new_date'])\n",
    "df_urbana=df_urbana[['new_date','PM2.5 (CF=1) ug/m3']]\n",
    "df_urbana = df_urbana.rename({'new_date': 'reading_datestamp','PM2.5 (CF=1) ug/m3': 'pm2.5_Urbana' }, axis=1)\n",
    "df_urbana.set_index('reading_datestamp', inplace=True)\n",
    "# df_urbana\n",
    "df_urbana = df_urbana[df_urbana.index.isin(df.index)]\n",
    "\n",
    "df_champaign = df_Champaign.copy()\n",
    "df_champaign['new_date'] = pd.to_datetime(df_champaign['new_date'])\n",
    "df_champaign=df_champaign[['new_date','PM2.5 (CF=1) ug/m3']]\n",
    "df_champaign = df_champaign.rename({'new_date': 'reading_datestamp','PM2.5 (CF=1) ug/m3': 'pm2.5_Champaign' }, axis=1)\n",
    "df_champaign.set_index('reading_datestamp', inplace=True)\n",
    "# df_champaign\n",
    "df_champaign = df_champaign[df_champaign.index.isin(df.index)]\n",
    "#Since the location in Champaign has data missing for some days we will keep it seperate for now.\n",
    "\n",
    "combined_urbana= pd.merge(df_urbanaOH,df_urbana, on='reading_datestamp')\n",
    "merged= pd.merge(df,combined_urbana, on='reading_datestamp')\n",
    "merged.info() # This is the data for UIUC + 2 purple air locations in Urbana\n",
    "df_champaign.info()"
   ]
  },
  {
   "cell_type": "markdown",
   "id": "a14d878e",
   "metadata": {},
   "source": [
    "### Converting concentrations to AIR Quality Index"
   ]
  },
  {
   "cell_type": "markdown",
   "id": "88b43ba3",
   "metadata": {},
   "source": [
    "To get AQI values from PM2.5 we will directly convert the PM2.5 concentrations to AQI using U.S EPA algorithm."
   ]
  },
  {
   "cell_type": "code",
   "execution_count": null,
   "id": "e1991938",
   "metadata": {
    "pycharm": {
     "name": "#%%\n"
    }
   },
   "outputs": [],
   "source": [
    "df_aqi = merged.copy()\n",
    "from functions import val_to_aqi\n",
    "df_aqi['AQI_UIUC_PM25']=val_to_aqi('POLLUTANT_PM25', df_aqi['pm2_5_prescale']) #based on pm2.5 vals from UIUC sensor\n",
    "df_aqi['AQI_UrbanaOH']=val_to_aqi('POLLUTANT_PM25', df_aqi['pm2.5_UrbanaOH'])\n",
    "df_aqi['AQI_Urbana']=val_to_aqi('POLLUTANT_PM25', df_aqi['pm2.5_Urbana'])\n",
    "df_aqi_25= df_aqi[['AQI_UrbanaOH','AQI_Urbana','AQI_UIUC_PM25']].copy()\n",
    "df_aqi_25"
   ]
  },
  {
   "cell_type": "code",
   "execution_count": null,
   "id": "c25d957c",
   "metadata": {
    "pycharm": {
     "name": "#%%\n"
    }
   },
   "outputs": [],
   "source": [
    "from functions import combined_aqi\n",
    "\n",
    "df_aqi = merged[['co_prescaled','no2_prescaled','o3_prescaled','pm10_prescale','pm2_5_prescale']].copy()\n",
    "df_aqi= df_aqi.dropna()\n",
    "df_aqi.reset_index(level=0, inplace=True)\n",
    "df_aqi['co_prescaled']= df_aqi['co_prescaled']/1000\n",
    "df_aqi['o3_prescaled']=df_aqi['o3_prescaled']/1000\n",
    "\n",
    "for i in df_aqi.index.values.tolist():\n",
    "    df_aqi.loc[i,'combAQI'] = combined_aqi(df_aqi.iloc[i].tolist())\n",
    "\n",
    "df_aqi.set_index('reading_datestamp', inplace=True)\n",
    "df_aqi_uiuc=df_aqi[['combAQI']].copy()\n",
    "df_aqi_uiuc"
   ]
  },
  {
   "cell_type": "code",
   "execution_count": null,
   "id": "cbc9a01a",
   "metadata": {
    "pycharm": {
     "name": "#%%\n"
    }
   },
   "outputs": [],
   "source": [
    "AQI_combined= pd.merge(df_aqi_uiuc,df_aqi_25, on='reading_datestamp')\n",
    "#AQI_combined.reset_index(level=0, inplace=True)\n",
    "AQI_combined"
   ]
  },
  {
   "cell_type": "code",
   "execution_count": null,
   "id": "2db9a3bf",
   "metadata": {
    "pycharm": {
     "name": "#%%\n"
    }
   },
   "outputs": [],
   "source": [
    "# Now let us combine all 3 purple air AQI values with AQI from UIUC sensor PM2.5 only and PM + gases combined\n",
    "df_champaign_AQI = pd.DataFrame()\n",
    "df_champaign_AQI['reading_datestamp'] = df_champaign.index\n",
    "\n",
    "df_champaign_AQI['AQI_Champaign']=val_to_aqi('POLLUTANT_PM25', df_champaign['pm2.5_Champaign'])\n",
    "\n",
    "df_champaign_AQI=df_champaign_AQI.iloc[0:6062]\n",
    "# df_champaign_AQI\n",
    "\n",
    "AQI_combined_all= pd.merge(AQI_combined,df_champaign_AQI,  how='inner', on='reading_datestamp')\n",
    "AQI_combined_all.set_index('reading_datestamp', inplace=True)\n",
    "AQI_combined_all"
   ]
  },
  {
   "cell_type": "code",
   "execution_count": null,
   "id": "a8002393",
   "metadata": {
    "pycharm": {
     "name": "#%%\n"
    }
   },
   "outputs": [],
   "source": [
    "sns.set_context(\"notebook\", font_scale=1)\n",
    "sns.set(rc={'figure.figsize':(15,8.27)})\n",
    "left = datetime(2021,9,25)\n",
    "right = datetime(2021,11,28)\n",
    "ax = sns.lineplot(data=AQI_combined_all[['combAQI','AQI_UIUC_PM25', 'AQI_UrbanaOH','AQI_Urbana','AQI_Champaign']],\n",
    "                  palette = ['red', 'blue','black','purple', 'cyan'], alpha=0.6)\n",
    "#ax = sns.lineplot(data=df_champaign[['pm2.5_Champaign']], palette = ['brown'], alpha=0.6)\n",
    "ax.set_xlabel('AQI Comparison - AQMesh vs Purple Air', fontsize=10)\n",
    "ax.set_xlim(left, right)"
   ]
  },
  {
   "cell_type": "markdown",
   "id": "d5de5ad9",
   "metadata": {},
   "source": [
    "### All values almost overlap eachother."
   ]
  },
  {
   "cell_type": "code",
   "execution_count": null,
   "id": "e38643ff",
   "metadata": {
    "pycharm": {
     "name": "#%%\n"
    }
   },
   "outputs": [],
   "source": [
    "from datetime import datetime as dt\n",
    "import seaborn as sns\n",
    "sns.set_context(\"notebook\", font_scale=1,rc={'figure.figsize':(18,6)})\n",
    "left = datetime(2021,9,25)\n",
    "right = datetime(2021,11,28)\n",
    "ax = sns.lineplot(data=merged[['pm2_5_prescale', 'pm2.5_UrbanaOH','pm2.5_Urbana']], palette = ['navy', 'black','purple'], alpha=0.6)\n",
    "ax = sns.lineplot(data=df_champaign[['pm2.5_Champaign']], palette = ['brown'], alpha=0.6)\n",
    "ax.set_xlabel('AQMesh vs Purple Air', fontsize=10)\n",
    "ax.set_xlim(left, right)"
   ]
  },
  {
   "cell_type": "code",
   "execution_count": null,
   "id": "32d5e1b6",
   "metadata": {
    "pycharm": {
     "name": "#%%\n"
    }
   },
   "outputs": [],
   "source": [
    "# Convert UIUC Sensor to AQI\n",
    "\n",
    "df_aqi = merged[['co_prescaled','no2_prescaled','o3_prescaled','pm10_prescale','pm2_5_prescale']].copy()\n",
    "df_aqi= df_aqi.dropna()\n",
    "df_aqi.reset_index(level=0, inplace=True)\n",
    "df_aqi['co_prescaled']= df_aqi['co_prescaled']/1000\n",
    "df_aqi['o3_prescaled']=df_aqi['o3_prescaled']/1000\n",
    "\n",
    "df_covertedAQI = pd.DataFrame()\n",
    "df_covertedAQI['reading_datestamp']=df_aqi['reading_datestamp']\n",
    "df_covertedAQI['AQI_CO']=val_to_aqi('POLLUTANT_CO_8H', df_aqi['co_prescaled'])\n",
    "df_covertedAQI['AQI_NO2']=val_to_aqi('POLLUTANT_NO2_1H', df_aqi['no2_prescaled'])\n",
    "df_covertedAQI['AQI_O3']=val_to_aqi('POLLUTANT_O3_8H', df_aqi['o3_prescaled'])\n",
    "df_covertedAQI['AQI_PM10']=val_to_aqi('POLLUTANT_PM10', df_aqi['pm10_prescale'])\n",
    "df_covertedAQI['AQI_PM25']=val_to_aqi('POLLUTANT_PM25', df_aqi['pm2_5_prescale'])\n",
    "df_covertedAQI.set_index('reading_datestamp', inplace=True)\n",
    "df_covertedAQI"
   ]
  },
  {
   "cell_type": "code",
   "execution_count": null,
   "id": "230372d8",
   "metadata": {
    "pycharm": {
     "name": "#%%\n"
    }
   },
   "outputs": [],
   "source": [
    "AQI_combined['combAQI_c']= [func.get_label(val) for val in AQI_combined['combAQI']]\n",
    "AQI_combined['AQI_UIUC_PM25_c']= [func.get_label(val) for val in AQI_combined['AQI_UIUC_PM25']]\n",
    "AQI_combined['AQI_UrbanaOH_c']= [func.get_label(val) for val in AQI_combined['AQI_UrbanaOH']]\n",
    "AQI_combined['AQI_Urbana_c']= [func.get_label(val) for val in AQI_combined['AQI_Urbana']]\n",
    "AQI_combined"
   ]
  },
  {
   "cell_type": "code",
   "execution_count": null,
   "id": "6d617328",
   "metadata": {
    "pycharm": {
     "name": "#%%\n"
    }
   },
   "outputs": [],
   "source": [
    "colz= AQI_combined.columns[4:]\n",
    "for col in colz:\n",
    "    Comparison[col]=AQI_combined[col].value_counts().to_frame()\n",
    "Comparison"
   ]
  },
  {
   "cell_type": "code",
   "execution_count": null,
   "id": "108a5295",
   "metadata": {
    "pycharm": {
     "name": "#%%\n"
    }
   },
   "outputs": [],
   "source": [
    "colors = ['purple',  'red', 'orange', 'yellow', 'green']\n",
    "orders = ['Very Unhealthy', 'Unhealthy', 'Unhealthy for Sensitive Groups', 'Moderate', 'Good']\n",
    "colormap = dict(zip(orders, colors))\n",
    "colormap"
   ]
  },
  {
   "cell_type": "code",
   "execution_count": null,
   "id": "701cf1c2",
   "metadata": {
    "pycharm": {
     "name": "#%%\n"
    }
   },
   "outputs": [],
   "source": [
    "sns.scatterplot(data=AQI_combined, x=AQI_combined.index.week, y=AQI_combined['AQI_Urbana'],\n",
    "                hue='AQI_Urbana_c', palette=colormap, alpha=0.8)\n"
   ]
  },
  {
   "cell_type": "code",
   "execution_count": null,
   "id": "6f23c9d0",
   "metadata": {
    "pycharm": {
     "name": "#%%\n"
    }
   },
   "outputs": [],
   "source": [
    "sns.scatterplot(data=AQI_combined, x=AQI_combined.index.week, y=AQI_combined['combAQI'],\n",
    "                hue='combAQI_c', palette=colormap, alpha=0.8)"
   ]
  },
  {
   "cell_type": "code",
   "execution_count": null,
   "id": "24513f53",
   "metadata": {
    "pycharm": {
     "name": "#%%\n"
    }
   },
   "outputs": [],
   "source": [
    "sns.scatterplot(data=AQI_combined, x=AQI_combined.index.week, y=AQI_combined['AQI_UrbanaOH'],\n",
    "                hue='AQI_UrbanaOH_c', palette=colormap, alpha=0.8)"
   ]
  },
  {
   "cell_type": "code",
   "execution_count": null,
   "id": "73690005",
   "metadata": {
    "pycharm": {
     "name": "#%%\n"
    }
   },
   "outputs": [],
   "source": [
    "sns.set_context(\"notebook\", font_scale=1)\n",
    "sns.set(rc={'figure.figsize':(15,8.27)})\n",
    "left = datetime(2021,10,1)\n",
    "right = datetime(2021,10,10)\n",
    "ax = sns.lineplot(data=AQI_combined_all[['combAQI', 'AQI_UrbanaOH','AQI_Urbana','AQI_Champaign']], palette = ['red', 'black','purple', 'yellow'], alpha=0.6)\n",
    "#ax = sns.lineplot(data=df_champaign[['pm2.5_Champaign']], palette = ['brown'], alpha=0.6)\n",
    "ax.set_xlabel('AQI Comparison - AQMesh vs Purple Air (10 Day) ', fontsize=10)\n",
    "ax.set_xlim(left, right)"
   ]
  },
  {
   "cell_type": "code",
   "execution_count": null,
   "id": "37ab68d8",
   "metadata": {
    "pycharm": {
     "name": "#%%\n"
    }
   },
   "outputs": [],
   "source": [
    "fig, axes = plt.subplots(nrows=1, ncols=3,figsize=(25,10))\n",
    "\n",
    "\n",
    "axes[0].pie(AQI_combined.combAQI_c.value_counts(),\n",
    "        labels= AQI_combined.combAQI_c.unique(),\n",
    "        colors=['yellow', 'orange', 'red', 'green', 'purple'], autopct='%1.1f%%', pctdistance=1.2);\n",
    "axes[1].pie(AQI_combined.AQI_UrbanaOH_c.value_counts(),\n",
    "        labels= AQI_combined.AQI_UrbanaOH_c.unique(),\n",
    "        colors=['yellow', 'orange', 'red', 'green', 'purple'], autopct='%1.1f%%', pctdistance=1.2);\n",
    "axes[2].pie(AQI_combined.AQI_Urbana_c.value_counts(),\n",
    "        labels= AQI_combined.AQI_Urbana_c.unique(),\n",
    "        colors=['yellow', 'orange', 'red', 'green', 'purple'], autopct='%1.1f%%', pctdistance=1.2);\n",
    "plt.title('AQI % for UIUC Sensor');\n",
    "plt.title('AQI % for UIUC Sensor');"
   ]
  },
  {
   "cell_type": "code",
   "execution_count": null,
   "id": "ac201555",
   "metadata": {
    "pycharm": {
     "name": "#%%\n"
    }
   },
   "outputs": [],
   "source": [
    "#### Other stuff"
   ]
  },
  {
   "cell_type": "code",
   "execution_count": null,
   "id": "f36d5d26",
   "metadata": {
    "pycharm": {
     "name": "#%%\n"
    }
   },
   "outputs": [],
   "source": [
    "#Lets get daily values to plot\n",
    "df4= merged.groupby(np.arange(len(merged))//96).mean()\n",
    "df4"
   ]
  },
  {
   "cell_type": "code",
   "execution_count": null,
   "id": "26cabc38",
   "metadata": {
    "pycharm": {
     "name": "#%%\n"
    }
   },
   "outputs": [],
   "source": [
    "import matplotlib.pyplot as plt\n",
    "fig = plt.figure(figsize=(8,6))\n",
    "ax = plt.axes()\n",
    "\n",
    "x = list(range(1, 91))\n",
    "# ax.plot(x, df4['pm2_5_prescale'].tolist(), label=\"PM2.5\")\n",
    "ax.plot(x, df4['CO2_prescaled'].tolist(), label=\"CO2\")\n",
    "#ax.plot(x, df4['co_prescaled'].tolist(), label=\"CO\")\n",
    "# ax.plot(x, df4['no_prescaled'].tolist(), label=\"NO\")\n",
    "# ax.plot(x, df4['no2_prescaled'].tolist(), label=\"NO2\")\n",
    "# ax.plot(x, df4['o3_prescaled'].tolist(), label=\"Ozone\")\n",
    "# ax.plot(x, df4['temperature_f'].tolist(), label=\"Temp F\")\n",
    "#ax.plot(x, df4['pressure'].tolist(), label=\"Pressure\")\n",
    "ax.plot(x, df4['humidity'].tolist(), label=\"Humidity\")\n",
    "plt.xlabel(\"Days (1-90)\")\n",
    "#plt.ylabel(\"PM 2.5 Val in PPB\")\n",
    "plt.legend(title=\"Legend\")"
   ]
  },
  {
   "cell_type": "code",
   "execution_count": null,
   "id": "566ce113",
   "metadata": {
    "pycharm": {
     "name": "#%%\n"
    }
   },
   "outputs": [],
   "source": [
    "df4= df3.groupby(np.arange(len(df3))//96).mean()\n",
    "df4"
   ]
  },
  {
   "cell_type": "code",
   "execution_count": null,
   "id": "d4c63f37",
   "metadata": {
    "pycharm": {
     "name": "#%%\n"
    }
   },
   "outputs": [],
   "source": []
  },
  {
   "cell_type": "markdown",
   "id": "a890a75c",
   "metadata": {
    "pycharm": {
     "name": "#%%\n"
    }
   },
   "source": [
    "## Hypothesis2 - The relationship between PM2.5 and time"
   ]
  },
  {
   "cell_type": "markdown",
   "id": "24f66ccd",
   "metadata": {},
   "source": [
    "Warnow-Chacko(South-west): 10894\n",
    "Urbana(South-east):94415\n",
    "Urbana on Holmes:107592"
   ]
  },
  {
   "cell_type": "code",
   "execution_count": null,
   "id": "06ae77bc",
   "metadata": {
    "pycharm": {
     "name": "#%%\n"
    }
   },
   "outputs": [],
   "source": [
    "sensor_list = [10894, 94415, 107592]\n",
    "columns = ['new_date', 'PM1.0 (CF=1) ug/m3', 'PM2.5 (CF=1) ug/m3', 'PM10.0 (CF=1) ug/m3',\n",
    "          'UptimeMinutes', 'ADC', 'Temperature_F', 'Humidity_%', 'PM2.5 (CF=ATM) ug/m3', 'sensor_name']\n",
    "df_sensor = pd.DataFrame(columns = columns)"
   ]
  },
  {
   "cell_type": "code",
   "execution_count": null,
   "id": "56a3fbdf",
   "metadata": {
    "pycharm": {
     "name": "#%%\n"
    }
   },
   "outputs": [],
   "source": [
    "df_sensor = df_Urbana.copy().append(df_Champaign.copy()).append(df_UrbanaOnHolmes.copy())\n",
    "df_sensor.reset_index(drop = True)\n",
    "df_UIUC1 = df_UIUC.copy()\n",
    "df_UIUC1 = pd.read_feather('export_UIUC_feather', columns=None, use_threads=True)\n",
    "df_UIUC1 = df_UIUC1.drop(['index'], axis = 1)\n",
    "df_UIUC1.rename(columns={'reading_datestamp': 'new_date'}, inplace = True)\n",
    "final_df = df_UIUC1.merge(df_sensor, on='new_date')\n",
    "final_df = final_df.drop_duplicates().reset_index().drop(['index'], axis = 1)\n",
    "final_df = final_df[columns]\n",
    "df_UIUC1 = pd.read_feather('export_UIUC_feather', columns=None, use_threads=True)\n",
    "df_UIUC1 = df_UIUC1.drop(['index'], axis = 1)\n",
    "df_UIUC1['sensor_name'] = 'UIUC'\n",
    "df_UIUC1.rename(columns={'reading_datestamp': 'new_date'}, inplace = True)\n",
    "df_UIUC1.rename(columns={'pm2_5_prescale': 'PM2.5 (CF=1) ug/m3'}, inplace = True)\n",
    "final_df = final_df.append(df_UIUC1)[columns].reset_index(drop = True)\n",
    "final_df['new_date']=pd.to_datetime(final_df['new_date'],format='%Y-%m-%d %H:%M:%S')\n",
    "final_df['date'] = pd.to_datetime(final_df['new_date'],format='%Y-%m-%d %H:%M:%S').dt.date\n",
    "final_df['time'] = pd.to_datetime(final_df['new_date'],format='%Y-%m-%d %H:%M:%S').dt.time\n",
    "final_df['dayofweek'] = pd.to_datetime(final_df['new_date'],format='%Y-%m-%d %H:%M:%S').dt.dayofweek"
   ]
  },
  {
   "cell_type": "markdown",
   "id": "910f9719",
   "metadata": {},
   "source": [
    "### Based On Time"
   ]
  },
  {
   "cell_type": "code",
   "execution_count": null,
   "id": "a81cd8d8",
   "metadata": {
    "pycharm": {
     "name": "#%%\n"
    }
   },
   "outputs": [],
   "source": [
    "hour=final_df[['new_date', 'PM2.5 (CF=1) ug/m3', 'sensor_name','time']]"
   ]
  },
  {
   "cell_type": "code",
   "execution_count": null,
   "id": "f510dc29",
   "metadata": {
    "pycharm": {
     "name": "#%%\n"
    }
   },
   "outputs": [],
   "source": [
    "def plot_part(sensor_name:str):\n",
    "    df_hour= hour[hour['sensor_name']== sensor_name]\n",
    "    df_hour_plot = df_hour.sort_values(by = ['time']).reset_index()\n",
    "    df_mean = df_hour.groupby('time').agg('mean').reset_index()\n",
    "    plt.figure(figsize=(20,5))\n",
    "    chart = sns.stripplot(x='time',y='PM2.5 (CF=1) ug/m3',data=df_hour_plot)\n",
    "    plt.ylabel('PM2.5', fontsize=15)\n",
    "    plt.xlabel('Time Line', fontsize=15)\n",
    "    for ind, label in enumerate(chart.get_xticklabels()):\n",
    "        if ind % 10 == 0:  # every 10th label is kept\n",
    "            label.set_visible(True)\n",
    "        else:\n",
    "            label.set_visible(False)\n",
    "    plt.show()\n",
    "    df_line = df_mean[['time', 'PM2.5 (CF=1) ug/m3']]\n",
    "    df_line.plot(x = 'time', y = 'PM2.5 (CF=1) ug/m3', figsize = (15,10), title = 'TimeLine')"
   ]
  },
  {
   "cell_type": "markdown",
   "id": "2222d882",
   "metadata": {},
   "source": [
    "#### Urbana"
   ]
  },
  {
   "cell_type": "code",
   "execution_count": null,
   "id": "89a94f88",
   "metadata": {
    "pycharm": {
     "name": "#%%\n"
    }
   },
   "outputs": [],
   "source": [
    "plot_part('Urbana')"
   ]
  },
  {
   "cell_type": "markdown",
   "id": "54be2ddf",
   "metadata": {},
   "source": [
    "#### Urbana on Holmes"
   ]
  },
  {
   "cell_type": "code",
   "execution_count": null,
   "id": "054310ae",
   "metadata": {
    "pycharm": {
     "name": "#%%\n"
    }
   },
   "outputs": [],
   "source": [
    "plot_part('Urbana on Holmes')"
   ]
  },
  {
   "cell_type": "markdown",
   "id": "10cdca25",
   "metadata": {},
   "source": [
    "#### Warnow-Chacko"
   ]
  },
  {
   "cell_type": "code",
   "execution_count": null,
   "id": "6944c2d4",
   "metadata": {
    "pycharm": {
     "name": "#%%\n"
    }
   },
   "outputs": [],
   "source": [
    "plot_part('Warnow-Chacko')"
   ]
  },
  {
   "cell_type": "markdown",
   "id": "63574f7e",
   "metadata": {},
   "source": [
    "#### UIUC"
   ]
  },
  {
   "cell_type": "code",
   "execution_count": null,
   "id": "1e980778",
   "metadata": {
    "pycharm": {
     "name": "#%%\n"
    }
   },
   "outputs": [],
   "source": [
    "plot_part('UIUC')"
   ]
  },
  {
   "cell_type": "code",
   "execution_count": null,
   "id": "7a60002e",
   "metadata": {
    "pycharm": {
     "name": "#%%\n"
    }
   },
   "outputs": [],
   "source": [
    "df_temp1 = hour.groupby(['time', 'sensor_name']).agg('mean').reset_index()\n",
    "df_temp1['time']=pd.to_datetime(df_temp1['time'],format='%H:%M:%S')\n",
    "df_temp2 = df_temp1.pivot('time', 'sensor_name', 'PM2.5 (CF=1) ug/m3')\n",
    "plt.figure(figsize=(20, 15))\n",
    "sns.lineplot(data = df_temp2)"
   ]
  },
  {
   "cell_type": "code",
   "execution_count": null,
   "id": "d8637e2d",
   "metadata": {
    "pycharm": {
     "name": "#%%\n"
    }
   },
   "outputs": [],
   "source": [
    "import plotly.graph_objects as go\n",
    "from plotly.offline import init_notebook_mode,iplot\n",
    "init_notebook_mode(connected=False)\n",
    "import cufflinks as cf"
   ]
  },
  {
   "cell_type": "markdown",
   "id": "156f9fd6",
   "metadata": {},
   "source": [
    "### Based on DayofWeek"
   ]
  },
  {
   "cell_type": "code",
   "execution_count": null,
   "id": "10fd5735",
   "metadata": {
    "pycharm": {
     "name": "#%%\n"
    }
   },
   "outputs": [],
   "source": [
    "dayofweek=final_df[['new_date', 'PM2.5 (CF=1) ug/m3', 'sensor_name','dayofweek']]"
   ]
  },
  {
   "cell_type": "code",
   "execution_count": null,
   "id": "d050731c",
   "metadata": {
    "pycharm": {
     "name": "#%%\n"
    }
   },
   "outputs": [],
   "source": [
    "def dayofweek_polt(sensor_name: str):\n",
    "    df_dayofweek = dayofweek[dayofweek['sensor_name']== sensor_name]\n",
    "    plt.figure(figsize=(20,5))\n",
    "    chart = sns.barplot(x='dayofweek',y='PM2.5 (CF=1) ug/m3',data=df_dayofweek)\n",
    "    plt.xticks(chart.get_xticks(), ['Monday','Tuesday','Wednesday','Thursday','Friday','Saturday','Sunday'])\n",
    "    plt.ylabel('Average PM2.5', fontsize=15)\n",
    "    plt.xlabel('Day of Week', fontsize=15)\n",
    "    print(chart)\n",
    "    plt.figure(figsize=(10,5))\n",
    "    sns.stripplot(x='dayofweek',y='PM2.5 (CF=1) ug/m3',data=df_dayofweek)\n",
    "    plt.xticks(chart.get_xticks(), ['Monday','Tuesday','Wednesday','Thursday','Friday','Saturday','Sunday'])\n",
    "    plt.ylabel('PM2.5', fontsize=15)\n",
    "    plt.xlabel('Day of Week', fontsize=15)\n",
    "    print(chart)\n",
    "    plt.figure(figsize=(10,5))\n",
    "    chart = sns.boxplot(x='dayofweek',y='PM2.5 (CF=1) ug/m3',data=df_dayofweek)\n",
    "    plt.xticks(chart.get_xticks(), ['Monday','Tuesday','Wednesday','Thursday','Friday','Saturday','Sunday'])\n",
    "    plt.ylabel('PM2.5', fontsize=15)\n",
    "    plt.xlabel('Day of Week', fontsize=15)\n",
    "    print(chart)"
   ]
  },
  {
   "cell_type": "markdown",
   "id": "d9f6abe5",
   "metadata": {},
   "source": [
    "#### Urbana"
   ]
  },
  {
   "cell_type": "code",
   "execution_count": null,
   "id": "931a078f",
   "metadata": {
    "pycharm": {
     "name": "#%%\n"
    }
   },
   "outputs": [],
   "source": [
    "dayofweek_polt('Urbana')"
   ]
  },
  {
   "cell_type": "markdown",
   "id": "771e6fff",
   "metadata": {},
   "source": [
    "#### Urbana on Holmes"
   ]
  },
  {
   "cell_type": "code",
   "execution_count": null,
   "id": "d7e3ebb4",
   "metadata": {
    "pycharm": {
     "name": "#%%\n"
    }
   },
   "outputs": [],
   "source": [
    "dayofweek_polt('Urbana on Holmes')"
   ]
  },
  {
   "cell_type": "markdown",
   "id": "5f5c96d6",
   "metadata": {},
   "source": [
    "#### Warnow-Chacko"
   ]
  },
  {
   "cell_type": "code",
   "execution_count": null,
   "id": "2b2bf335",
   "metadata": {
    "pycharm": {
     "name": "#%%\n"
    }
   },
   "outputs": [],
   "source": [
    "dayofweek_polt('Warnow-Chacko')"
   ]
  },
  {
   "cell_type": "markdown",
   "id": "a520af30",
   "metadata": {},
   "source": [
    "#### UIUC"
   ]
  },
  {
   "cell_type": "code",
   "execution_count": null,
   "id": "b8b938f5",
   "metadata": {
    "pycharm": {
     "name": "#%%\n"
    }
   },
   "outputs": [],
   "source": [
    "dayofweek_polt('UIUC')"
   ]
  },
  {
   "cell_type": "markdown",
   "id": "9e39fd5d",
   "metadata": {},
   "source": [
    "### Find the outliers"
   ]
  },
  {
   "cell_type": "code",
   "execution_count": null,
   "id": "fc38e151",
   "metadata": {
    "pycharm": {
     "name": "#%%\n"
    }
   },
   "outputs": [],
   "source": [
    "df_quantile.dtypes\n",
    "df_quantile['time'][0]"
   ]
  },
  {
   "cell_type": "code",
   "execution_count": null,
   "id": "6b36750f",
   "metadata": {
    "pycharm": {
     "name": "#%%\n"
    }
   },
   "outputs": [],
   "source": [
    "df_quantile['Is_Time_Outlier'] = df_quantile.apply(lambda time: sf.is_time_outlier(df_quantile, time['time'],time['PM2.5 (CF=1) ug/m3']),axis=1)\n",
    "df_quantile[df_quantile['Is_Time_Outlier']=='T']['date'].unique()\n",
    "df_quantile"
   ]
  },
  {
   "cell_type": "code",
   "execution_count": null,
   "id": "e46df516",
   "metadata": {
    "pycharm": {
     "name": "#%%\n"
    }
   },
   "outputs": [],
   "source": [
    "df_quantile['Is_Dayofweek_Outlier'] = df_quantile.apply(lambda dayofweek: sf.is_date_outlier(df_quantile, dayofweek['dayofweek'],dayofweek['PM2.5 (CF=1) ug/m3']),axis=1)\n",
    "df_quantile[df_quantile['Is_Dayofweek_Outlier']=='T']['date'].unique()"
   ]
  },
  {
   "cell_type": "code",
   "execution_count": null,
   "id": "63666152",
   "metadata": {
    "pycharm": {
     "name": "#%%\n"
    }
   },
   "outputs": [],
   "source": [
    "df_outlier = df_quantile[(df_quantile['Is_Dayofweek_Outlier']=='T') & (df_quantile['Is_Time_Outlier']=='T')]\n",
    "count = df_outlier.date.value_counts()\n",
    "df_count = count.to_frame()\n",
    "data = [\n",
    "    [str(df_count.index[i]), int(df_count.date[i])]\n",
    "    for i in range(df_count.size)\n",
    "]\n",
    "\n",
    "\n",
    "c = (\n",
    "    Calendar(init_opts=opts.InitOpts())\n",
    "    .add(\n",
    "        series_name=\"\",\n",
    "        yaxis_data=data,\n",
    "        calendar_opts=opts.CalendarOpts(\n",
    "            pos_top=\"80\",\n",
    "            pos_left=\"30\",\n",
    "            pos_right=\"30\",\n",
    "            range_=\"2021\",\n",
    "        ),\n",
    "    )\n",
    "    .set_global_opts(\n",
    "        title_opts=opts.TitleOpts(\n",
    "            pos_top=\"10\",\n",
    "            pos_left=\"center\",\n",
    "            title=\"PM2.5 count heatmap\"\n",
    "        ),\n",
    "        visualmap_opts=opts.VisualMapOpts(\n",
    "            pos_top=\"230\",\n",
    "            max_=90, min_=1,\n",
    "            orient=\"horizontal\",\n",
    "            is_piecewise=True, #\n",
    "        ),\n",
    "    )\n",
    ")\n",
    "c.render_notebook()"
   ]
  },
  {
   "cell_type": "code",
   "execution_count": null,
   "id": "97e3aa24",
   "metadata": {
    "pycharm": {
     "name": "#%%\n"
    }
   },
   "outputs": [],
   "source": [
    "df_notemp1 = df_quantile[df_quantile['Is_Time_Outlier'] == 'F'].groupby(['time', 'sensor_name']).agg('mean').reset_index()\n",
    "df_notemp1['time']=pd.to_datetime(df_temp1['time'],format='%H:%M:%S')\n",
    "df_notemp2 = df_temp1.pivot('time', 'sensor_name', 'PM2.5 (CF=1) ug/m3')\n",
    "plt.figure(figsize=(15, 10))\n",
    "sns.lineplot(data = df_notemp2)"
   ]
  },
  {
   "cell_type": "code",
   "execution_count": null,
   "id": "0845bcb5",
   "metadata": {
    "pycharm": {
     "name": "#%%\n"
    }
   },
   "outputs": [],
   "source": [
    "df_dayofweek_mean = df_quantile[(df_quantile['sensor_name']== 'UIUC') & (df_quantile['Is_Dayofweek_Outlier']== 'F')]\n",
    "plt.figure(figsize=(20,5))\n",
    "chart = sns.barplot(x='dayofweek',y='PM2.5 (CF=1) ug/m3',data=df_dayofweek_mean)\n",
    "plt.xticks(chart.get_xticks(), ['Monday','Tuesday','Wednesday','Thursday','Friday','Saturday','Sunday'])\n",
    "plt.ylabel('Average PM2.5', fontsize=15)\n",
    "plt.xlabel('Day of Week', fontsize=15)\n",
    "print(chart)"
   ]
  },
  {
   "cell_type": "code",
   "execution_count": null,
   "id": "fbb22462",
   "metadata": {
    "pycharm": {
     "name": "#%%\n"
    }
   },
   "outputs": [],
   "source": [
    "df_dayofweek_mean = df_quantile[(df_quantile['sensor_name']== 'Urbana') & (df_quantile['Is_Dayofweek_Outlier']== 'F')]\n",
    "plt.figure(figsize=(20,5))\n",
    "chart = sns.barplot(x='dayofweek',y='PM2.5 (CF=1) ug/m3',data=df_dayofweek_mean)\n",
    "plt.xticks(chart.get_xticks(), ['Monday','Tuesday','Wednesday','Thursday','Friday','Saturday','Sunday'])\n",
    "plt.ylabel('Average PM2.5', fontsize=15)\n",
    "plt.xlabel('Day of Week', fontsize=15)\n",
    "print(chart)"
   ]
  },
  {
   "cell_type": "markdown",
   "id": "2e06db74",
   "metadata": {
    "pycharm": {
     "name": "#%%\n"
    }
   },
   "source": [
    "# Hypothesis3 Relation between Pm2.5 and weather"
   ]
  },
  {
   "cell_type": "code",
   "execution_count": null,
   "id": "5f30fd91",
   "metadata": {
    "pycharm": {
     "name": "#%%\n"
    }
   },
   "outputs": [],
   "source": [
    "df3 = df_UIUC.copy()\n",
    "df4 = df_Urbana.copy()\n",
    "df5 = df_UrbanaOnHolmes.copy()\n",
    "df6 = df_Champaign.copy()"
   ]
  },
  {
   "cell_type": "code",
   "execution_count": null,
   "id": "aa2fa8e9",
   "metadata": {
    "pycharm": {
     "name": "#%%\n"
    }
   },
   "outputs": [],
   "source": [
    "df3.rename(columns={'reading_datestamp': 'new_date'}, inplace = True)\n",
    "df3.head(5)\n",
    "df3['new_date'] = pd.to_datetime(df3['new_date'])\n",
    "df3.set_index('new_date', inplace = True)\n",
    "df3.head(5)\n"
   ]
  },
  {
   "cell_type": "code",
   "execution_count": null,
   "id": "b57db265",
   "metadata": {
    "pycharm": {
     "name": "#%%\n"
    }
   },
   "outputs": [],
   "source": [
    "df4['new_date'] = pd.to_datetime(df4['new_date'])\n",
    "df4 = df4[['new_date','PM2.5 (CF=1) ug/m3']]\n",
    "df4.set_index('new_date', inplace = True)\n",
    "df4 = df4[df4.index.isin(df3.index)]\n",
    "df4.head(5)"
   ]
  },
  {
   "cell_type": "code",
   "execution_count": null,
   "id": "95f48122",
   "metadata": {
    "pycharm": {
     "name": "#%%\n"
    }
   },
   "outputs": [],
   "source": [
    "df5['new_date'] = pd.to_datetime(df5['new_date'])\n",
    "df5 = df5[['new_date','PM2.5 (CF=1) ug/m3']]\n",
    "df5.set_index('new_date', inplace = True)\n",
    "df5 = df5[df5.index.isin(df3.index)]\n",
    "df5.head(5)"
   ]
  },
  {
   "cell_type": "code",
   "execution_count": null,
   "id": "625cb042",
   "metadata": {
    "pycharm": {
     "name": "#%%\n"
    }
   },
   "outputs": [],
   "source": [
    "df6['new_date'] = pd.to_datetime(df6['new_date'])\n",
    "df6 = df6[['new_date','PM2.5 (CF=1) ug/m3']]\n",
    "df6.set_index('new_date', inplace = True)\n",
    "df6 = df6[df6.index.isin(df3.index)]\n",
    "df6.head(5)"
   ]
  },
  {
   "cell_type": "code",
   "execution_count": null,
   "id": "8e71348b",
   "metadata": {
    "pycharm": {
     "name": "#%%\n"
    }
   },
   "outputs": [],
   "source": [
    "temp_df = pd.merge(df4, df5, on = 'new_date')\n",
    "temp_df.head(5)"
   ]
  },
  {
   "cell_type": "markdown",
   "id": "25700af8",
   "metadata": {},
   "source": [
    "</h6><b> Merging the sensor data </b></h6>"
   ]
  },
  {
   "cell_type": "code",
   "execution_count": null,
   "id": "553a7816",
   "metadata": {
    "pycharm": {
     "name": "#%%\n"
    }
   },
   "outputs": [],
   "source": [
    "temp_dfnew = pd.merge(temp_df, df6, on = 'new_date')\n",
    "temp_dfnew.head(5)"
   ]
  },
  {
   "cell_type": "markdown",
   "id": "9c09f94f",
   "metadata": {},
   "source": [
    "<h6><b> Merging data from Purple Air and UIUC Sensors </b></h6>"
   ]
  },
  {
   "cell_type": "code",
   "execution_count": null,
   "id": "5af8725c",
   "metadata": {
    "pycharm": {
     "name": "#%%\n"
    }
   },
   "outputs": [],
   "source": [
    "final_df = df3.merge(temp_dfnew, on='new_date')\n",
    "final_df.head(5)"
   ]
  },
  {
   "cell_type": "markdown",
   "id": "0ba7cfa3",
   "metadata": {},
   "source": [
    "</h6><b> Calculating the correlations </b></h6>"
   ]
  },
  {
   "cell_type": "code",
   "execution_count": null,
   "id": "89595c04",
   "metadata": {
    "pycharm": {
     "name": "#%%\n"
    }
   },
   "outputs": [],
   "source": [
    "df3.corr()"
   ]
  },
  {
   "cell_type": "code",
   "execution_count": null,
   "id": "39f58862",
   "metadata": {
    "pycharm": {
     "name": "#%%\n"
    }
   },
   "outputs": [],
   "source": [
    "#Correlation heatmap for UIUC Sensor Data\n",
    "sns.heatmap(df3.corr())"
   ]
  },
  {
   "cell_type": "code",
   "execution_count": null,
   "id": "9fdb525c",
   "metadata": {
    "pycharm": {
     "name": "#%%\n"
    }
   },
   "outputs": [],
   "source": [
    "#Correlation heatmap for all Purple Air data\n",
    "sns.heatmap(temp_dfnew.corr())"
   ]
  },
  {
   "cell_type": "code",
   "execution_count": null,
   "id": "5258ad0e",
   "metadata": {
    "pycharm": {
     "name": "#%%\n"
    }
   },
   "outputs": [],
   "source": [
    "#Correlation heatmap for combined sensor data\n",
    "sns.heatmap(final_df.corr())"
   ]
  },
  {
   "cell_type": "code",
   "execution_count": null,
   "id": "69b732ca",
   "metadata": {
    "pycharm": {
     "name": "#%%\n"
    }
   },
   "outputs": [],
   "source": [
    "a = final_df.corr()['PM2.5 (CF=1) ug/m3'].sort_values()"
   ]
  },
  {
   "cell_type": "code",
   "execution_count": null,
   "id": "3e57c1b0",
   "metadata": {
    "pycharm": {
     "name": "#%%\n"
    }
   },
   "outputs": [],
   "source": [
    "b = a.to_frame()"
   ]
  },
  {
   "cell_type": "code",
   "execution_count": null,
   "id": "e450d2b2",
   "metadata": {
    "pycharm": {
     "name": "#%%\n"
    }
   },
   "outputs": [],
   "source": [
    "#Correlation of PM2.5 values from Purple air to other recorded variables\n",
    "fig, ax = plt.subplots(figsize=(10,10))\n",
    "b.drop('PM2.5 (CF=1) ug/m3').plot.barh(ax=ax)"
   ]
  },
  {
   "cell_type": "code",
   "execution_count": null,
   "id": "c79cbcca",
   "metadata": {
    "pycharm": {
     "name": "#%%\n"
    }
   },
   "outputs": [],
   "source": [
    "#Scatter plot showing correlation between purple air PC 2.5 values and UIUC sensor PM 2.5 values\n",
    "plt.scatter(final_df['PM2.5 (CF=1) ug/m3'], final_df['pm2_5_prescale'], alpha = 0.5)\n"
   ]
  },
  {
   "cell_type": "code",
   "execution_count": null,
   "id": "5fe1c7e0",
   "metadata": {
    "pycharm": {
     "name": "#%%\n"
    }
   },
   "outputs": [],
   "source": [
    "#Variation of PM 2.5 Values from Purple air and UIUC sensor over time\n",
    "final_df[['PM2.5 (CF=1) ug/m3', 'pm2_5_prescale']].plot(subplots = True, figsize = (15,5), legend = True)"
   ]
  },
  {
   "cell_type": "markdown",
   "id": "fc171144",
   "metadata": {},
   "source": [
    "</h6><b> Gathering Windspeed data from MERRA for Sep 30 </b></h6>"
   ]
  },
  {
   "cell_type": "code",
   "execution_count": null,
   "id": "800ecb57",
   "metadata": {
    "pycharm": {
     "name": "#%%\n"
    }
   },
   "outputs": [],
   "source": [
    "import xarray as xr\n",
    "\n",
    "ds = xr.open_dataset('MERRA2_401.inst1_2d_lfo_Nx.20200930.nc4')\n",
    "df = ds.to_dataframe()"
   ]
  },
  {
   "cell_type": "code",
   "execution_count": null,
   "id": "529a0537",
   "metadata": {
    "pycharm": {
     "name": "#%%\n"
    }
   },
   "outputs": [],
   "source": [
    "ds"
   ]
  },
  {
   "cell_type": "markdown",
   "id": "93ab1784",
   "metadata": {},
   "source": [
    "</h6><b> Filtering Wind Speed data to retain only the closest to the sensors </b></h6>"
   ]
  },
  {
   "cell_type": "code",
   "execution_count": null,
   "id": "7ee53526",
   "metadata": {
    "pycharm": {
     "name": "#%%\n"
    }
   },
   "outputs": [],
   "source": [
    "e = ds.loc[dict(lat=\"40.0\", lon=\"-87.5\")]\n",
    "f = e.to_dataframe()"
   ]
  },
  {
   "cell_type": "code",
   "execution_count": null,
   "id": "0c729273",
   "metadata": {
    "pycharm": {
     "name": "#%%\n"
    }
   },
   "outputs": [],
   "source": [
    "wind_df = f.reset_index()\n",
    "#wind_df.set_index('time', inplace = True)\n",
    "wind_df.head(5)"
   ]
  },
  {
   "cell_type": "code",
   "execution_count": null,
   "id": "b72e1ecd",
   "metadata": {
    "pycharm": {
     "name": "#%%\n"
    }
   },
   "outputs": [],
   "source": [
    "df_clean = final_df.reset_index()\n",
    "df_clean\n",
    "filtered_df = df_clean.loc[(df_clean['new_date'] >= \"2021-09-30 00:00:00\") & (df_clean['new_date'] <= \"2021-09-30 23:00:00\")]\n",
    "#filtered_df.set_index('new_date', inplace = True)"
   ]
  },
  {
   "cell_type": "code",
   "execution_count": null,
   "id": "005b4bdc",
   "metadata": {
    "pycharm": {
     "name": "#%%\n"
    }
   },
   "outputs": [],
   "source": [
    "pd.options.mode.chained_assignment = None  # default='warn'\n",
    "filtered_df['new_date'] = filtered_df['new_date'].dt.time\n",
    "filtered_df.set_index(\"new_date\", inplace = True)"
   ]
  },
  {
   "cell_type": "code",
   "execution_count": null,
   "id": "b0c660dc",
   "metadata": {
    "pycharm": {
     "name": "#%%\n"
    }
   },
   "outputs": [],
   "source": [
    "wind_df['time'] = wind_df['time'].dt.time\n",
    "wind_df.rename(columns={'time' : 'new_date'}, inplace = True)"
   ]
  },
  {
   "cell_type": "code",
   "execution_count": null,
   "id": "37a10a41",
   "metadata": {
    "pycharm": {
     "name": "#%%\n"
    }
   },
   "outputs": [],
   "source": [
    "wind_df.set_index(\"new_date\", inplace = True)\n",
    "wind_df.head(5)"
   ]
  },
  {
   "cell_type": "code",
   "execution_count": null,
   "id": "db3cdb36",
   "metadata": {
    "pycharm": {
     "name": "#%%\n"
    }
   },
   "outputs": [],
   "source": [
    "filtered_df = filtered_df[filtered_df.index.isin(wind_df.index)]\n",
    "filtered_df.head(5)"
   ]
  },
  {
   "cell_type": "code",
   "execution_count": null,
   "id": "e4edff81",
   "metadata": {
    "pycharm": {
     "name": "#%%\n"
    }
   },
   "outputs": [],
   "source": [
    "windspeed_df = pd.merge(filtered_df, wind_df, on = 'new_date')\n",
    "windspeed_df.head(5)"
   ]
  },
  {
   "cell_type": "code",
   "execution_count": null,
   "id": "e955c026",
   "metadata": {
    "pycharm": {
     "name": "#%%\n"
    }
   },
   "outputs": [],
   "source": [
    "sns.heatmap(windspeed_df.corr())"
   ]
  },
  {
   "cell_type": "markdown",
   "id": "d2f8aa90",
   "metadata": {},
   "source": [
    "<h6> PM 2.5 vs Temperature </h6>"
   ]
  },
  {
   "cell_type": "code",
   "execution_count": null,
   "id": "b65c9a69",
   "metadata": {
    "pycharm": {
     "name": "#%%\n"
    }
   },
   "outputs": [],
   "source": [
    "#Test plot showing variation of PC 2.5 with Temperature\n",
    "plt.scatter(final_df['temperature_f'], final_df['PM2.5 (CF=1) ug/m3'])\n",
    "plt.xlabel('Temperature')\n",
    "plt.ylabel('PC 2.5')"
   ]
  },
  {
   "cell_type": "code",
   "execution_count": null,
   "id": "9397ab38",
   "metadata": {
    "pycharm": {
     "name": "#%%\n"
    }
   },
   "outputs": [],
   "source": [
    "temperature_df = final_df.reset_index()\n",
    "temperature_df = temperature_df[['new_date','PM2.5 (CF=1) ug/m3', 'temperature_f']]\n",
    "sns.lineplot(data = temperature_df, x=\"temperature_f\", y=\"PM2.5 (CF=1) ug/m3\")"
   ]
  },
  {
   "cell_type": "code",
   "execution_count": null,
   "id": "1a3e8e89",
   "metadata": {
    "pycharm": {
     "name": "#%%\n"
    }
   },
   "outputs": [],
   "source": [
    "sns.jointplot(x = \"temperature_f\", y=\"PM2.5 (CF=1) ug/m3\", data=temperature_df, kind=\"hex\")"
   ]
  },
  {
   "cell_type": "markdown",
   "id": "387dd4b4",
   "metadata": {},
   "source": [
    "<h6> PM 2.5 vs Humidity </h6>"
   ]
  },
  {
   "cell_type": "code",
   "execution_count": null,
   "id": "722b5f9d",
   "metadata": {
    "pycharm": {
     "name": "#%%\n"
    }
   },
   "outputs": [],
   "source": [
    "#Scatter plot showing variation of PC2.5 with Humidity\n",
    "plt.scatter(final_df['humidity'], final_df['PM2.5 (CF=1) ug/m3'])\n",
    "plt.xlabel('Humidity_%')\n",
    "plt.ylabel('PC 2.5')"
   ]
  },
  {
   "cell_type": "code",
   "execution_count": null,
   "id": "4cddf332",
   "metadata": {
    "pycharm": {
     "name": "#%%\n"
    }
   },
   "outputs": [],
   "source": [
    "humidity_df = final_df.reset_index()\n",
    "humidity_df = humidity_df[['new_date','PM2.5 (CF=1) ug/m3', 'humidity']]\n",
    "sns.lineplot(data = humidity_df, x=\"humidity\", y=\"PM2.5 (CF=1) ug/m3\")"
   ]
  },
  {
   "cell_type": "code",
   "execution_count": null,
   "id": "fc4da7db",
   "metadata": {
    "pycharm": {
     "name": "#%%\n"
    }
   },
   "outputs": [],
   "source": [
    "sns.jointplot(x = \"humidity\", y=\"PM2.5 (CF=1) ug/m3\", data=humidity_df, kind=\"hex\")"
   ]
  },
  {
   "cell_type": "markdown",
   "id": "71e4beb7",
   "metadata": {},
   "source": [
    "<h6> PM 2.5 vs Wind Speed </h6>"
   ]
  },
  {
   "cell_type": "code",
   "execution_count": null,
   "id": "67a747fa",
   "metadata": {
    "pycharm": {
     "name": "#%%\n"
    }
   },
   "outputs": [],
   "source": [
    "#Scatter plot showing variation of PC2.5 with Wind speed on Sep 30\n",
    "plt.scatter(windspeed_df['SPEEDLML'], windspeed_df['PM2.5 (CF=1) ug/m3'])\n",
    "plt.xlabel('Windspeed')\n",
    "plt.ylabel('PC 2.5')"
   ]
  },
  {
   "cell_type": "code",
   "execution_count": null,
   "id": "7f841a98",
   "metadata": {
    "pycharm": {
     "name": "#%%\n"
    }
   },
   "outputs": [],
   "source": [
    "sns.lineplot(data = windspeed_df, x=\"SPEEDLML\", y=\"PM2.5 (CF=1) ug/m3\")"
   ]
  },
  {
   "cell_type": "code",
   "execution_count": null,
   "id": "b5874df6",
   "metadata": {
    "pycharm": {
     "name": "#%%\n"
    }
   },
   "outputs": [],
   "source": [
    "sns.jointplot(x=\"SPEEDLML\", y=\"PM2.5 (CF=1) ug/m3\", data=windspeed_df, kind='reg')"
   ]
  },
  {
   "cell_type": "code",
   "execution_count": null,
   "id": "39b7a58b",
   "metadata": {
    "pycharm": {
     "name": "#%%\n"
    }
   },
   "outputs": [],
   "source": [
    "#Air quality Index calculations"
   ]
  }
 ],
 "metadata": {
  "kernelspec": {
   "display_name": "Python 3 (ipykernel)",
   "language": "python",
   "name": "python3"
  },
  "language_info": {
   "codemirror_mode": {
    "name": "ipython",
    "version": 3
   },
   "file_extension": ".py",
   "mimetype": "text/x-python",
   "name": "python",
   "nbconvert_exporter": "python",
   "pygments_lexer": "ipython3",
   "version": "3.9.2"
  }
 },
 "nbformat": 4,
 "nbformat_minor": 5
}
