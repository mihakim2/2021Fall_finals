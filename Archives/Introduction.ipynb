{
 "cells": [
  {
   "cell_type": "code",
   "execution_count": 3,
   "id": "d7ca1253",
   "metadata": {},
   "outputs": [],
   "source": [
    "import matplotlib as plt\n",
    "from IPython.display import Image\n",
    "from IPython.core.display import HTML \n"
   ]
  },
  {
   "cell_type": "markdown",
   "id": "5ba6d579",
   "metadata": {},
   "source": [
    "## Performance review of lowcost PM2.5 sensors for ambient air quality monitoring over expensive high end Gas and PM sensors.\n",
    "\n",
    "### What is PM2.5?\n",
    "Pm 2.5 are fine inhalable particles, with diameters that are generally 2.5 micrometers and smaller. It is an air pollutant that is a concern for people's health when levels in air are high. PM2.5 are tiny particles in the air that reduce visibility and cause the air to appear hazy when levels are elevated. These have diameter less than 2.5 micrometres (more than 100 times thinner than a human hair) and remain suspended for longer. These particles are formed as a result of burning fuel and chemical reactions that take place in the atmosphere.\n",
    "\n",
    "### Why Should We Worry About PM2.5?\n",
    "\n",
    "Exposure to PM2.5 has multiple short term and long term health impacts. Short term include irritation in the eyes, nose and throat, coughing, sneezing and shortness of breath. A prolonged exposure to PM2.5 can cause permanent respiratory problems such as asthma, chronic bronchitis and heart disease. The prescribed standard for the annual average of PM2.5 is 60ug/m3 in India, and 15ug/m3 in USA. "
   ]
  },
  {
   "cell_type": "code",
   "execution_count": 6,
   "id": "1d4813a3",
   "metadata": {},
   "outputs": [
    {
     "data": {
      "text/html": [
       "<img src=\"https://www.airveda.com/resources/images/pm2.png\"/>"
      ],
      "text/plain": [
       "<IPython.core.display.Image object>"
      ]
     },
     "execution_count": 6,
     "metadata": {},
     "output_type": "execute_result"
    }
   ],
   "source": [
    "Image(url= \"https://www.airveda.com/resources/images/pm2.png\")"
   ]
  },
  {
   "cell_type": "markdown",
   "id": "36339564",
   "metadata": {},
   "source": [
    "### Our Approach\n",
    "\n",
    "We will compare and analyse data collected using a air quality monitoring station established at University of Illinois, Urbana-Champaign and compare this with PM2.5 readings from multiple sesnors that people install in their home and broadcast data freely for public use.\n",
    "\n",
    "<br> The UIUC sensor is manufactured by UK based company AQMesh and broadcasts readings via a Mobile network every 15 minutes. The recorded values include readings for CO, NO, NO2, Ozone, CO2, PM2.5, PM10, temperature, pressure and humidity. This is a relatively expensive sensor with ongoing expenses for replacement of parts. The cost is in the range of $15k to $25k.\n",
    "\n",
    "<br> PurpleAir Sensor is a low cost sensor that can be deployed easily for less than $200. There are about 22000 live purple air sensors today. The data from these is open-access. Urbana-Champaign has 3 live purople air sensors.\n",
    "\n",
    "Both these sensors measure PM2.5 using scattering of light phenomenon. \n",
    "\n",
    "Sensor Installed on the roof of Temple Buell Hall, UIUC | Purple Air Outdoor PM2.5 Sensor (Source: PurpleAir.com)\n",
    "- | - \n",
    "![alt](images/uiuc.jpg) | ![alt](images/purpleair.webp)"
   ]
  },
  {
   "cell_type": "markdown",
   "id": "8da6d685",
   "metadata": {},
   "source": [
    "### Project:\n",
    "1. Data acquisition, cleaning, organization.<br>\n",
    "2. Data Visualization <br>\n",
    "3. Correlations <br>\n",
    "4. Hypothesis <br>\n",
    "5. Discussion/Conclusions <br>"
   ]
  },
  {
   "cell_type": "markdown",
   "id": "2e3dbb6c",
   "metadata": {},
   "source": [
    "# Introduction to Air Quality Index"
   ]
  },
  {
   "cell_type": "markdown",
   "id": "e69c0c19",
   "metadata": {},
   "source": [
    "Think of the AQI as a yardstick that runs from 0 to 500. The higher the AQI value, the greater the level of air pollution and the greater the health concern. \n",
    "\n",
    "\n",
    "AQI Index Ranges by EPA \n",
    "![alt](https://gmtma.org/wp-content/uploads/2018/03/air-quality-index-chart.jpg)"
   ]
  },
  {
   "cell_type": "markdown",
   "id": "7acfc9ff",
   "metadata": {},
   "source": [
    "### Hypothesis-\n",
    "1) Pm2.5 represent ambient air quality. <br> \n",
    "2) There is a relationship between pm2.5 values and time of the day or week. <br>\n",
    "PM2.5 will be higher in evening than in morning. PM2.5 will be higher on weekdays than on weekends. <br>\n",
    "3) There is a direct relation between Pm2.5 and weather (temp, wind speed, humidity) <br>\n",
    "4) CO and CO2 concentrations are higher in evenings as people burn firewood. But this change is noted in PM2.5 with some time lag (~5 hrs)."
   ]
  },
  {
   "cell_type": "code",
   "execution_count": null,
   "id": "07f64544",
   "metadata": {},
   "outputs": [],
   "source": []
  }
 ],
 "metadata": {
  "kernelspec": {
   "display_name": "Python 3",
   "language": "python",
   "name": "python3"
  },
  "language_info": {
   "codemirror_mode": {
    "name": "ipython",
    "version": 3
   },
   "file_extension": ".py",
   "mimetype": "text/x-python",
   "name": "python",
   "nbconvert_exporter": "python",
   "pygments_lexer": "ipython3",
   "version": "3.8.8"
  }
 },
 "nbformat": 4,
 "nbformat_minor": 5
}
